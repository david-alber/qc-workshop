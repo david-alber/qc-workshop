{
 "cells": [
  {
   "cell_type": "code",
   "execution_count": 1,
   "metadata": {},
   "outputs": [],
   "source": [
    "from qiskit import QuantumCircuit, transpile\n",
    "from qiskit_aer import Aer\n",
    "import numpy as np\n",
    "from qiskit.visualization import plot_histogram"
   ]
  },
  {
   "cell_type": "markdown",
   "metadata": {},
   "source": [
    "## Quantum Key Distribution\n",
    "Alice wants to send a private message to Bob. But first they have to establish a shared secret key! (This exercise is an adpated version of a [qiskit tutorial](https://github.com/qmunitytech/Tutorials/blob/main/intermediate/The%20BB84%20Quantum%20Cryptography%20algorithm.ipynb).)\n"
   ]
  },
  {
   "cell_type": "markdown",
   "metadata": {},
   "source": [
    "##### Step 0: Prepare bit strings for measurements and states"
   ]
  },
  {
   "cell_type": "code",
   "execution_count": 2,
   "metadata": {},
   "outputs": [
    {
     "name": "stdout",
     "output_type": "stream",
     "text": [
      "Alice's State:\t [0 1 1 0 0 1]\n",
      "Alice's Bases:\t [0 1 0 1 0 0]\n",
      "Bob's Bases:\t [0 1 0 1 1 1]\n",
      "Eve's Bases:\t [1 0 0 0 1 0]\n"
     ]
    }
   ],
   "source": [
    "num_qubits = 6\n",
    "\n",
    "alice_basis = np.random.randint(2, size=num_qubits)\n",
    "alice_state = np.random.randint(2, size=num_qubits)\n",
    "bob_basis = np.random.randint(2, size=num_qubits)\n",
    "eve_basis = np.random.randint(2, size=num_qubits)\n",
    "#eve_basis = None\n",
    "\n",
    "\n",
    "print(f\"Alice's State:\\t {np.array2string(alice_state)}\")\n",
    "print(f\"Alice's Bases:\\t {np.array2string(alice_basis)}\")\n",
    "print(f\"Bob's Bases:\\t {np.array2string(bob_basis)}\")\n",
    "if eve_basis is not None:\n",
    "    print(f\"Eve's Bases:\\t {np.array2string(eve_basis)}\")"
   ]
  },
  {
   "cell_type": "markdown",
   "metadata": {},
   "source": [
    "NOTE: When Alice's state bit is 1 (0) and her basis bit is **0**, this means that she is using the computational basis (Z basis) to encode the state |1⟩ (|0⟩). However, if Alice's state is 1 (0) and her basis is **1**, that means she is using the hadamard gate (X basis) to encode the state 1 (0)  which will result in |-⟩ (|+⟩)."
   ]
  },
  {
   "cell_type": "markdown",
   "metadata": {},
   "source": [
    "##### Step 1: Construct the BB84 circuit"
   ]
  },
  {
   "cell_type": "code",
   "execution_count": null,
   "metadata": {},
   "outputs": [],
   "source": [
    "def bb84_circuit(state, basis, measurement_basis):\n",
    "   \n",
    "    #state: array of 0s and 1s denoting the state to be encoded\n",
    "    #basis: array of 0s and 1s denoting the basis to be used for encoding\n",
    "                #0 -> Computational Basis\n",
    "                #1 -> Hadamard Basis\n",
    "    #meas_basis: array of 0s and 1s denoting the basis to be used for measurement\n",
    "                #0 -> Computational Basis\n",
    "                #1 -> Hadamard Basis\n",
    "    \n",
    "    num_qubits = len(state)\n",
    "    \n",
    "    circuit = QuantumCircuit(num_qubits)\n",
    "    \n",
    "    # Sender prepares qubits\n",
    "    for i in range(len(basis)):\n",
    "    # Prepare the circuit according to selection of state and basis\n",
    "    # Your code goes here:\n",
    "\n",
    "\n",
    "    # Measuring action performed by reciever\n",
    "    for i in range(len(measurement_basis)):\n",
    "    # Prepare the circuit according to the measurement basis\n",
    "    # Your code goes here:\n",
    "              \n",
    "    circuit.measure_all()\n",
    "    \n",
    "    return circuit"
   ]
  },
  {
   "cell_type": "markdown",
   "metadata": {},
   "source": [
    "##### Step 2: Run the circuit on Aer simulator"
   ]
  },
  {
   "cell_type": "code",
   "execution_count": null,
   "metadata": {},
   "outputs": [],
   "source": [
    "circuit = bb84_circuit(alice_state, alice_basis, bob_basis)\n",
    "circuit.draw()"
   ]
  },
  {
   "cell_type": "code",
   "execution_count": null,
   "metadata": {},
   "outputs": [],
   "source": [
    "backend = Aer.get_backend('aer_simulator', seed_simulator=42)\n",
    "mapped_circuit = transpile(circuit, backend, seed_transpiler=42)\n",
    "\n",
    "job = backend.run(mapped_circuit,shots=1000)\n",
    "result = job.result()\n",
    "bob_counts = result.get_counts(mapped_circuit).most_frequent()\n",
    "plot_histogram(result.get_counts())"
   ]
  },
  {
   "cell_type": "markdown",
   "metadata": {},
   "source": [
    "##### Step 3: Retrieve the key (measurement basis match)"
   ]
  },
  {
   "cell_type": "code",
   "execution_count": null,
   "metadata": {},
   "outputs": [],
   "source": [
    "\n",
    "def validation(alice_state,alice_basis,bob_state,bob_basis,):\n",
    "    key = ''\n",
    "    for i in range(num_qubits):\n",
    "        if alice_basis[i] == bob_basis[i]:\n",
    "            if alice_state[i] == bob_state[i]:\n",
    "                key += str(alice_state[i])\n",
    "            else:\n",
    "                print(f'Message has been intercepted.\\nQubit {i} with identical encryption/decryption basis ({alice_basis[i]}/{bob_basis[i]}) yields unidentical state.')\n",
    "                print(f'Alice basis: {alice_basis[i]}\\t Alice state: {alice_state[i]}')\n",
    "                print(f'Bob   basis: {bob_basis[i]}\\t Bob   state: {bob_state[len(alice_state)-(i+1)]}')\n",
    "                return key\n",
    "    print(f'Message delivered safely.')\n",
    "    print(f'Key: {key}')\n",
    "    return key\n",
    "   \n"
   ]
  },
  {
   "cell_type": "code",
   "execution_count": null,
   "metadata": {},
   "outputs": [],
   "source": [
    "bob_state = [int(i) for i in reversed(bob_counts)]\n",
    "validation(alice_state,alice_basis,bob_state,bob_basis)  "
   ]
  },
  {
   "cell_type": "markdown",
   "metadata": {},
   "source": [
    "Now let's include Eve in the communication loop.\n",
    "\n",
    "Eve intercepts the message by measuring the qubits in her own random measurement basis.\n",
    "\n",
    "How likely is it that the eavesdropping will be noticed?\n",
    "\n",
    "* 1/2 chance of guessing the right basis (0,1)\n",
    "* 1/2 chance of getting the right result with wrong basis\n",
    "\n",
    "There is a 25% chance that she would measure a wrong value for every bit $n \\in N$\n",
    "\n",
    "The probability to detect the eavesdropping is $1-\\left( \\frac{3}{4} \\right)^n$"
   ]
  },
  {
   "cell_type": "code",
   "execution_count": null,
   "metadata": {},
   "outputs": [],
   "source": [
    "import matplotlib.pyplot as plt\n",
    "plt.plot(np.arange(1,16),1-0.75**np.arange(1,16))\n",
    "plt.xlabel('Bit string length')\n",
    "plt.ylabel('P(Detecting eavesdrop)')\n",
    "plt.show()"
   ]
  },
  {
   "cell_type": "code",
   "execution_count": null,
   "metadata": {},
   "outputs": [],
   "source": [
    "circuit_eve = bb84_circuit(alice_state, alice_basis, eve_basis)\n",
    "mapped_circuit_eve = transpile(circuit_eve, backend, seed_transpiler=42)\n",
    "eve_counts = backend.run(mapped_circuit_eve,shots=1).result().get_counts().most_frequent()\n",
    "eve_state = [int(i) for i in reversed(eve_counts)]"
   ]
  },
  {
   "cell_type": "code",
   "execution_count": null,
   "metadata": {},
   "outputs": [],
   "source": [
    "circuit_bob = bb84_circuit(eve_state, eve_basis, bob_basis)\n",
    "mapped_circuit_bob = transpile(circuit_bob, backend, seed_transpiler=42)\n",
    "bob_counts = backend.run(mapped_circuit_bob,shots=1).result().get_counts().most_frequent()\n",
    "bob_state = [int(i) for i in reversed(bob_counts)]"
   ]
  },
  {
   "cell_type": "code",
   "execution_count": null,
   "metadata": {},
   "outputs": [],
   "source": [
    "validation(alice_state,alice_basis,bob_state,bob_basis)  "
   ]
  },
  {
   "cell_type": "code",
   "execution_count": null,
   "metadata": {},
   "outputs": [],
   "source": []
  },
  {
   "cell_type": "code",
   "execution_count": null,
   "metadata": {},
   "outputs": [],
   "source": []
  }
 ],
 "metadata": {
  "kernelspec": {
   "display_name": "qiskit_env",
   "language": "python",
   "name": "qiskit_env"
  },
  "language_info": {
   "codemirror_mode": {
    "name": "ipython",
    "version": 3
   },
   "file_extension": ".py",
   "mimetype": "text/x-python",
   "name": "python",
   "nbconvert_exporter": "python",
   "pygments_lexer": "ipython3",
   "version": "3.9.13"
  }
 },
 "nbformat": 4,
 "nbformat_minor": 4
}
