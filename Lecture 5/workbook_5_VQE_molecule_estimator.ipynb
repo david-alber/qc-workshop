{
 "cells": [
  {
   "cell_type": "markdown",
   "id": "9dea9206-cf44-4d01-9638-6be0f5fdc32a",
   "metadata": {},
   "source": [
    "# Molecule Energies with VQE\n",
    "\n",
    "In this notebeook we show you how to use the VQE routine for a more advanced usage: **Estimating the ground state energy of a molecule**, namely $H_2$. \n",
    "\n",
    "The ground state energy **reveals importatnt physical-chemical characteristics** of a molecule."
   ]
  },
  {
   "cell_type": "markdown",
   "id": "842c89be-82d8-4779-bf91-f6ee0cf3e003",
   "metadata": {},
   "source": [
    "## Imports - Helper functions\n",
    "\n",
    "Nothing special here :)."
   ]
  },
  {
   "cell_type": "code",
   "execution_count": null,
   "id": "98cbbed2-c2c2-43e5-9ff1-308b47bc2e40",
   "metadata": {
    "tags": []
   },
   "outputs": [],
   "source": [
    "import csv\n",
    "import numpy as np\n",
    "import pandas as pd\n",
    "import matplotlib.pyplot as plt\n",
    "from scipy.optimize import minimize\n",
    "\n",
    "import qiskit_nature\n",
    "from qiskit_aer import AerSimulator\n",
    "from qiskit_algorithms.minimum_eigensolvers import NumPyMinimumEigensolver, VQE\n",
    "from qiskit_nature.second_q.formats.molecule_info import MoleculeInfo\n",
    "from qiskit_nature.second_q.mappers import ParityMapper\n",
    "from qiskit_nature.second_q.circuit.library import UCCSD, HartreeFock\n",
    "from qiskit_algorithms.optimizers import COBYLA\n",
    "from qiskit_nature.second_q.drivers import PySCFDriver\n",
    "from qiskit_nature.units import DistanceUnit\n",
    "from qiskit_ibm_runtime import QiskitRuntimeService, Session, Options, EstimatorV1 as Estimator\n",
    "from qiskit_aer.primitives import Estimator as AerEstimator\n",
    "from qiskit.transpiler.preset_passmanagers import generate_preset_pass_manager\n",
    "from qiskit_ibm_runtime.fake_provider import FakeOsaka\n",
    "qiskit_nature.settings.use_pauli_sum_op = False\n",
    "service = QiskitRuntimeService(channel='ibm_quantum')\n"
   ]
  },
  {
   "cell_type": "code",
   "execution_count": null,
   "id": "dc77af17-1e1f-4c06-a5f0-117785b5dcb3",
   "metadata": {},
   "outputs": [],
   "source": [
    "import warnings\n",
    "warnings.simplefilter(action='ignore')"
   ]
  },
  {
   "cell_type": "markdown",
   "id": "2cad34ac-5972-4884-8c6c-ed3232bb847c",
   "metadata": {},
   "source": [
    "## Defining the optimization problem\n",
    "\n",
    "This time our optimization problem is derived from a molecular configuration. \n",
    "\n",
    "We can use the `qiskit_nature` framework to **convert the molecular configuration to an observable** that can be measured with a Quantum Computer. \n",
    "\n",
    "(\"We all stand on the shoulders of giants.\" - Isaac Newton)\n",
    "\n",
    "For reusability we define the evaluation of the molecular configuartion observable as function of interatomic distance."
   ]
  },
  {
   "cell_type": "code",
   "execution_count": null,
   "id": "7f96395c-9aaf-46cf-9d51-cc1b723e42bd",
   "metadata": {
    "tags": []
   },
   "outputs": [],
   "source": [
    "# Convert the molecular configuration problem to an observable\n",
    "def get_qubit_op(dist):\n",
    "    # Define molecule\n",
    "\n",
    "    # Your code goes here: \n",
    "    \n",
    "    driver = PySCFDriver.from_molecule(molecule)\n",
    "\n",
    "    # Get molecule properties\n",
    "    problem = driver.run()\n",
    "    num_particles = problem.num_particles\n",
    "    num_spatial_orbitals = problem.num_spatial_orbitals\n",
    "    \n",
    "    mapper = ParityMapper(num_particles=num_particles)\n",
    "    qubit_op = mapper.map(problem.second_q_ops()[0])\n",
    "    return qubit_op, num_particles, num_spatial_orbitals, problem, mapper"
   ]
  },
  {
   "cell_type": "code",
   "execution_count": null,
   "id": "4d39f6d9-5405-4538-bc44-02437293e085",
   "metadata": {
    "tags": []
   },
   "outputs": [],
   "source": [
    "qubit_op, num_particles, num_spatial_orbitals, problem, mapper = get_qubit_op(1.2)\n",
    "print('Problem observable:\\n',\n",
    "      f'{qubit_op}')"
   ]
  },
  {
   "cell_type": "markdown",
   "id": "cc57fc6c-b56f-4ca6-974e-72c7e37b010d",
   "metadata": {},
   "source": [
    "**Note:**\n",
    "\n",
    "The observable that corresponds to the molecular configuration of $H_2$ is the sum of the Identity and Pauli-X,Y,Z matrices."
   ]
  },
  {
   "cell_type": "markdown",
   "id": "cc504c21-77b3-4027-ae99-b5c241988801",
   "metadata": {},
   "source": [
    "## Defining the ansatz\n",
    "\n",
    "Again our ansatz is a parameterized Quantum Circuit.\n",
    "\n",
    "We are using an ansatz that is specifically designed for finding the molecule ground state energy -> UCCD. \n",
    "\n",
    "This ansatz requires more qubits, has more circuit layers and also more tunable parameters."
   ]
  },
  {
   "cell_type": "code",
   "execution_count": null,
   "id": "170440fe-49a6-4356-af11-22070bdbd5a1",
   "metadata": {
    "tags": []
   },
   "outputs": [],
   "source": [
    "reference_state = HartreeFock(\n",
    "    num_spatial_orbitals,\n",
    "    num_particles,\n",
    "    mapper\n",
    ")\n",
    "\n",
    "var_form = UCCSD(\n",
    "    num_spatial_orbitals=num_spatial_orbitals,\n",
    "    num_particles=num_particles,\n",
    "    qubit_mapper=mapper,\n",
    "    initial_state=reference_state,\n",
    "    \n",
    ")"
   ]
  },
  {
   "cell_type": "markdown",
   "id": "ad14d74f-ac06-42df-94d5-fbde3aebde43",
   "metadata": {},
   "source": [
    "Let's see some properties of our ansatz:"
   ]
  },
  {
   "cell_type": "code",
   "execution_count": null,
   "id": "7a53c34a-577d-4ed8-910f-70b953b3489a",
   "metadata": {
    "tags": []
   },
   "outputs": [],
   "source": [
    "print('\\nAnsatz circuit properties:\\n',\n",
    "    f'  Detph: {var_form.decompose(reps=3).depth()}\\n',\n",
    "    f'  N-Qubits: {var_form.width()}\\n',\n",
    "    f'  Tunable Parameters: {var_form.num_parameters}')\n",
    "var_form.decompose(reps=3).draw()"
   ]
  },
  {
   "cell_type": "markdown",
   "id": "cbdadc7f-3035-4661-9e30-a3c7382830fa",
   "metadata": {},
   "source": [
    "## Defining the solver routine\n",
    "\n",
    "We can use the qiskit `VQE` class for a simplified interface.\n",
    "\n",
    "To estimat the exact results of the $H_2$ ground state energies we will use the `NumPyMinimumEigensolver` - a classical sover routine. "
   ]
  },
  {
   "cell_type": "code",
   "execution_count": null,
   "id": "008449fd-2454-4e1d-9267-2340e7b81dd1",
   "metadata": {
    "tags": []
   },
   "outputs": [],
   "source": [
    "def exact_solver(qubit_op, problem):\n",
    "    sol = NumPyMinimumEigensolver().compute_minimum_eigenvalue(qubit_op)\n",
    "    result = problem.interpret(sol)\n",
    "    return result\n",
    "\n",
    "def get_ansatz(num_particles, num_spatial_orbitals, mapper):\n",
    "\n",
    "    # Define a function that creates the Ansatz as a composition of \n",
    "    # a reference state and a variational form circuit: \n",
    "\n",
    "    # Your code goes here:\n",
    "    \n",
    "    return var_form\n",
    "\n",
    "def quantum_solver(qubit_op,var_form,problem,estimator,optimizer=None):  \n",
    "    if optimizer == None: \n",
    "        optimizer = COBYLA(maxiter=20)\n",
    "    vqe = VQE(estimator,\n",
    "              var_form,\n",
    "              optimizer,\n",
    "              initial_point=[0] * var_form.num_parameters,\n",
    "    )    \n",
    "    vqe_calc = vqe.compute_minimum_eigenvalue(qubit_op)\n",
    "    vqe_result = problem.interpret(vqe_calc).total_energies[0].real\n",
    "    return vqe_result"
   ]
  },
  {
   "cell_type": "markdown",
   "id": "7aee0880-dad7-4830-b2c8-7580dfb2f6ec",
   "metadata": {},
   "source": [
    "## Setting the backend\n",
    "\n",
    "We can use a **classical** compute resources to **simulate noisy quantum** computers.\n",
    "\n",
    "This will accurately reflect the noise of a specific IBM Quantum computer.\n",
    "\n",
    "**Note:**\n",
    "- We can specify our error mitigation strategy by setting the `resilience_level`."
   ]
  },
  {
   "cell_type": "code",
   "execution_count": null,
   "id": "c71e433d-a19c-4924-bc63-3aec45cced69",
   "metadata": {},
   "outputs": [],
   "source": [
    "real_backend = service.backend('ibm_brisbane')\n",
    "sim_backend = AerSimulator.from_backend(real_backend)\n",
    "sim_backend"
   ]
  },
  {
   "cell_type": "code",
   "execution_count": null,
   "id": "180c5200-0b25-478e-a7c3-72315ecf0b30",
   "metadata": {},
   "outputs": [],
   "source": [
    "pm_bad = generate_preset_pass_manager(backend=sim_backend, optimization_level=0)\n",
    "pm_good = generate_preset_pass_manager(backend=sim_backend, optimization_level=3)"
   ]
  },
  {
   "cell_type": "markdown",
   "id": "c252b4c3-a262-4776-b84d-69fda2576aa1",
   "metadata": {},
   "source": [
    "## Evaluating the $H_2$ ground state energy.\n",
    "\n",
    "We will evaluate the ground state for a specific interatomic distance $d = 1.2$ Bohr between the H atoms.\n",
    "\n",
    "Recent advancements in the Quantum Computing software and hardware stack allow to mitigate the errors of todays noisy quantum compoters by specifying the `resilience_level`.\n",
    "\n",
    "Let's compare the **exact evaluations** to the **noisy results (no error mitigation - resilience_level = 0)** and the **error mitigated results (ZNE error mitigation - resilience_level = 2)**."
   ]
  },
  {
   "cell_type": "code",
   "execution_count": null,
   "id": "cd98f1f3-4fc4-42cd-b709-7c45a7fd04d9",
   "metadata": {
    "tags": []
   },
   "outputs": [],
   "source": [
    "dist = 1.2\n",
    "exact_energies = []\n",
    "vqe_energies_noisy = []\n",
    "vqe_energies_mitigated = []\n",
    "\n",
    "# Set up the evaluation of the molecule ground state\n",
    "\n",
    "with Session(service=service,backend=sim_backend) as session:\n",
    "    estimator_noisy = Estimator(session=session,options={\"resilience_level\": 0})\n",
    "    estimator_mitigated = Estimator(session=session,options={\"resilience_level\": 2})\n",
    "    \n",
    "    # Prepare problem\n",
    "    # Your code goes here:\n",
    "    \n",
    "    # Solve problem exactly\n",
    "    # Your code goes here:\n",
    "    \n",
    "    # Prepare VQE ansatz\n",
    "    # Your code goes here:\n",
    "    \n",
    "    # Transpile ansatz and operator\n",
    "    # Your code goes here:\n",
    "    \n",
    "    # Solve VQE - noisy\n",
    "    # Your code goes here:\n",
    "    \n",
    "    # Solve VQE - mitigated (ZNE)\n",
    "    # Your code goes here:\n",
    "\n",
    "    print(\n",
    "        f\"\\nInteratomic Distance: {np.round(dist, 2)} (Hartree)\\n\",\n",
    "        f\"Noisy VQE Result: {vqe_result_noisy:.5f} (Hartree)\\n\",\n",
    "        f\"Mitigated VQE Result: {vqe_result_mitigated:.5f} (Hartree)\\n\",\n",
    "        f\"Exact Energy: {exact_energies[-1]:.5f} (Hartree)\\n\",\n",
    "    )"
   ]
  },
  {
   "cell_type": "markdown",
   "id": "fce3ee7f-fa2b-45e1-8460-e90c309bf50c",
   "metadata": {},
   "source": [
    "## P-set 5"
   ]
  },
  {
   "cell_type": "markdown",
   "id": "ab2b34ce-d0e9-43e3-b7f7-0c289036741c",
   "metadata": {},
   "source": [
    "1. 80 points\n",
    "\n",
    "Infer the ground state energy of $H_2$ for a series of interatomic distances $0.4 < d < 6$ (Bohr) and\n",
    "plot the ground state energy as function of interatomic distances. (use Qiskit)\n",
    "\n",
    "2. 20 points\n",
    "   \n",
    "At what distance is the molecule most stable? (Answere in markdown cell)\n",
    "\n",
    "\n",
    "Try to execute 1. on a real Quantum Computer. Note that IBM Quantum grants free access to 127 qubit systems for 10 min/month. This might confine the number of steps used in your optimizer.\n",
    "\n",
    "Hint: Before executin your code check which system is least busy."
   ]
  },
  {
   "cell_type": "code",
   "execution_count": null,
   "id": "5b8915cd-a0cc-4f6d-bc50-9f78d61cf0d2",
   "metadata": {},
   "outputs": [],
   "source": []
  }
 ],
 "metadata": {
  "kernelspec": {
   "display_name": "qiskit_env",
   "language": "python",
   "name": "qiskit_env"
  },
  "language_info": {
   "codemirror_mode": {
    "name": "ipython",
    "version": 3
   },
   "file_extension": ".py",
   "mimetype": "text/x-python",
   "name": "python",
   "nbconvert_exporter": "python",
   "pygments_lexer": "ipython3",
   "version": "3.12.4"
  },
  "widgets": {
   "application/vnd.jupyter.widget-state+json": {
    "state": {},
    "version_major": 2,
    "version_minor": 0
   }
  }
 },
 "nbformat": 4,
 "nbformat_minor": 5
}
