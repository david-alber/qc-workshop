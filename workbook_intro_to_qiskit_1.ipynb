{
 "cells": [
  {
   "cell_type": "markdown",
   "id": "a82c7a65-f14b-406e-b3d3-1016f757e15e",
   "metadata": {},
   "source": [
    "# Quantum Computing Workshop: Introduction to Qiskit 1"
   ]
  },
  {
   "cell_type": "code",
   "execution_count": null,
   "id": "f56418fd-a951-4383-b0e3-727bf6332651",
   "metadata": {
    "tags": []
   },
   "outputs": [],
   "source": [
    "# Importing standard Qiskit libraries\n",
    "from qiskit import QuantumCircuit, transpile\n",
    "from qiskit.visualization import *\n",
    "from qiskit_aer import AerSimulator, Aer\n",
    "from qiskit.quantum_info import Operator, Statevector\n",
    "\n",
    "\n",
    "from qiskit_ibm_runtime import QiskitRuntimeService, Sampler, Estimator, Session, Options\n",
    "\n",
    "# Loading your IBM Quantum account(s)\n",
    "with open('api_key.txt', 'r') as file:\n",
    "    token = file.read()\n",
    "\n",
    "service = QiskitRuntimeService(channel=\"ibm_quantum\",token=token)"
   ]
  },
  {
   "cell_type": "code",
   "execution_count": null,
   "id": "1922211d-c06d-4cac-b58e-b7e04e1ffb3a",
   "metadata": {
    "tags": []
   },
   "outputs": [],
   "source": [
    "# Other useful imports\n",
    "import numpy as np\n",
    "# Ignore future warnings\n",
    "import warnings\n",
    "warnings.simplefilter(action='ignore', category=FutureWarning)"
   ]
  },
  {
   "cell_type": "markdown",
   "id": "3d497cc8-f84d-4df0-8bcc-93494a064ef5",
   "metadata": {},
   "source": [
    "## Backends\n",
    "\n",
    "- **Simulators:** Based on classical hardware. Great for prototyping and learning\n",
    "    - Local\n",
    "        - AerSimulator: Simulator for quantum circuit execution.\n",
    "        - Statevector simulator: Reveals information on the full state of the system of qubits.\n",
    "    - Cloud\n",
    "        - qasm_simulator: Can mimic hardware noise.\n",
    "- **Real Quantum hardware:** Used when execution on simulators does not scale."
   ]
  },
  {
   "cell_type": "code",
   "execution_count": null,
   "id": "319c85f2-589d-4faf-a634-2d1e6aeddce9",
   "metadata": {
    "tags": []
   },
   "outputs": [],
   "source": [
    "# Instantiate a backend for local execution\n",
    "aer_backend = AerSimulator()\n",
    "# Instantiate a statevector simulator backend\n",
    "sv_backend = Aer.get_backend(\"statevector_simulator\")"
   ]
  },
  {
   "cell_type": "markdown",
   "id": "0e21a126-a93d-49f7-a265-ed405941735f",
   "metadata": {},
   "source": [
    "## Basic Not circuit\n",
    "Goal: flip a qubit from the initial $|0\\rangle$ state to the $|1\\rangle$ state\n",
    "\n",
    "Note that qubits on IBM systems are always reset to the $|0\\rangle$ state at the start of the circuit."
   ]
  },
  {
   "cell_type": "code",
   "execution_count": null,
   "id": "f8d8468e-1902-435f-9f6d-c931c4226e14",
   "metadata": {
    "tags": []
   },
   "outputs": [],
   "source": [
    "# Create a NOT circuit\n",
    "\n",
    "# Your code goes here\n"
   ]
  },
  {
   "cell_type": "markdown",
   "id": "d5a005d8-d293-4880-8516-5bfc7b5772aa",
   "metadata": {},
   "source": [
    "**Note**: \n",
    "\n",
    "Every circuit performs a transformation to our initial state of qubits. \n",
    "\n",
    "This transformation can be represented as matrix."
   ]
  },
  {
   "cell_type": "code",
   "execution_count": null,
   "id": "7ce7502a-ec2b-4b1d-ae1c-8de39e06f4d6",
   "metadata": {
    "tags": []
   },
   "outputs": [],
   "source": [
    "# Display the Operator (2x2 Matrix) that corresponds to this circuit\n",
    "\n",
    "# Your code goes here"
   ]
  },
  {
   "cell_type": "code",
   "execution_count": null,
   "id": "a83f273b-fb8b-4cac-a597-1a94f4ceb3e3",
   "metadata": {
    "tags": []
   },
   "outputs": [],
   "source": [
    "# Measure qbit 0 -> cbit 0\n",
    "\n",
    "# Your code goes here"
   ]
  },
  {
   "cell_type": "code",
   "execution_count": null,
   "id": "a06e5ad5-a4be-4437-86a6-905df9a539a9",
   "metadata": {
    "tags": []
   },
   "outputs": [],
   "source": [
    "# Run the circuit on a local backend with different number of shots (1,10, 2048)\n",
    "# What are the respective counts?\n",
    "\n",
    "# Your code goes here"
   ]
  },
  {
   "cell_type": "code",
   "execution_count": null,
   "id": "2d42ef81-cc40-4a67-b902-4fb3087c6881",
   "metadata": {
    "tags": []
   },
   "outputs": [],
   "source": [
    "# Visualize the counts\n",
    "\n",
    "# Your code goes here"
   ]
  },
  {
   "cell_type": "markdown",
   "id": "0e48eb6d-978f-4f04-808d-1c3907581e91",
   "metadata": {},
   "source": [
    "**Note**:\n",
    "\n",
    "No matter how repeatedly we execute the NOT circuit, the result is always the same: This circuit performs a deterministic operation (if we omit the noise, present in real quantum hardware)."
   ]
  },
  {
   "cell_type": "markdown",
   "id": "0763e0e5-8e5a-47f8-a65f-3472d3e0ac02",
   "metadata": {},
   "source": [
    "## Superposition\n",
    "\n",
    "Goal: place a qubit into an equal superposition of $|0\\rangle$ and $|1\\rangle$"
   ]
  },
  {
   "cell_type": "code",
   "execution_count": null,
   "id": "e77c9f23-b368-44a1-bea3-f78ead9d0ac3",
   "metadata": {
    "tags": []
   },
   "outputs": [],
   "source": [
    "# Create superposition circuit (sp_circ) by using the Hadamard gate. Measure qbit 0 -> cbit 0\n",
    "\n",
    "# Your code goes here"
   ]
  },
  {
   "cell_type": "code",
   "execution_count": null,
   "id": "a7676644-f720-4e8d-9bd8-83c3fc95ed34",
   "metadata": {
    "tags": []
   },
   "outputs": [],
   "source": [
    "# Run the simulation for different number of shots (1,10, 2048)\n",
    "# What are the respective counts?\n",
    "job = aer_backend.run(sp_circ,shots=1)\n",
    "sp_counts = job.result().get_counts()\n",
    "sp_counts"
   ]
  },
  {
   "cell_type": "code",
   "execution_count": null,
   "id": "29a82955-b09c-47f8-ae96-46d054780e34",
   "metadata": {
    "tags": []
   },
   "outputs": [],
   "source": [
    "# Plot\n",
    "plot_histogram(sp_counts)"
   ]
  },
  {
   "cell_type": "markdown",
   "id": "6f3d558c-d7f9-4cc0-b017-7a5f5b423fc9",
   "metadata": {},
   "source": [
    "**Note**:\n",
    "\n",
    "The Hadamard operation is probabilistic. Classical computers can only simulate this operation. Real quantum computers can execute probabilistic operations natively."
   ]
  },
  {
   "cell_type": "markdown",
   "id": "70e72a80-3f39-43d4-92b1-4b0a5d456db1",
   "metadata": {},
   "source": [
    "## Multiple qubits in superposition"
   ]
  },
  {
   "cell_type": "code",
   "execution_count": null,
   "id": "ddab3056-593d-402d-9553-a564770074b9",
   "metadata": {
    "tags": []
   },
   "outputs": [],
   "source": [
    "# Create superposition circuit (sp_circ2) between 3 qubits and measure them.\n",
    "n_qubits = 3\n",
    "\n",
    "# Your code goes here"
   ]
  },
  {
   "cell_type": "code",
   "execution_count": null,
   "id": "e38155bc-33ae-4558-8696-943d3d898f0e",
   "metadata": {
    "tags": []
   },
   "outputs": [],
   "source": [
    "# Run the superpositon circuit on a statevector simulator backend\n",
    "# Visualize the states on bloch spheres\n",
    "\n",
    "# Your code goes here"
   ]
  },
  {
   "cell_type": "code",
   "execution_count": null,
   "id": "8e215f37-8f19-4c60-aafc-dc7979a50f11",
   "metadata": {
    "tags": []
   },
   "outputs": [],
   "source": [
    "sp_circ2.measure_all()\n",
    "sp_circ2.draw()"
   ]
  },
  {
   "cell_type": "code",
   "execution_count": null,
   "id": "f7b877be-8221-4f5e-9393-c32d515a12c6",
   "metadata": {
    "tags": []
   },
   "outputs": [],
   "source": [
    "# Run simulation and plot results\n",
    "job = aer_backend.run(sp_circ2,shots=2**14)\n",
    "sp_counts = job.result().get_counts()\n",
    "for state, count in sp_counts.items():\n",
    "    print(f'State: {state} - Measurement probability: {round(count/sum(sp_counts.values()),4)}')\n",
    "plot_histogram(sp_counts)"
   ]
  },
  {
   "cell_type": "markdown",
   "id": "4aeb5d0d-e869-4ebe-ab07-c33cf50fc863",
   "metadata": {},
   "source": [
    "**Questions**:\n",
    "1) When creating a superposition between N-Qubits, how many possible states can be measured? \n",
    "2) What is the probability of measuring one particular state if all qubits are in equal superposition?"
   ]
  },
  {
   "cell_type": "markdown",
   "id": "e3ad3d8d-f649-47d6-8251-e23793bad0a4",
   "metadata": {},
   "source": [
    "## Bell state (entanglement)\n",
    "Goal: Create the $\\frac{1}{\\sqrt{2}} (|00\\rangle + |11\\rangle)$ entangled state (Bell state)\n",
    "\n",
    "When measuring one qubit it is with equal probability in the $|0\\rangle$ or $|1\\rangle$ state.\n",
    "\n",
    "The measurement of one qubit \"collapses\" the other qubit.\n",
    "\n",
    "The measurements among maximally entangled qubits are perfectly correlated."
   ]
  },
  {
   "cell_type": "code",
   "execution_count": null,
   "id": "59474caf-de5c-4d1d-acd6-76127181c1d8",
   "metadata": {
    "tags": []
   },
   "outputs": [],
   "source": [
    "# Create Bell state circuit (bell_circ). Meaure all qubits to clbits.\n",
    "\n",
    "# Your code goes here"
   ]
  },
  {
   "cell_type": "code",
   "execution_count": null,
   "id": "441eae15-1bcf-4987-9a7c-5a0dbc449e8d",
   "metadata": {
    "tags": []
   },
   "outputs": [],
   "source": [
    "# Run the bell circuit on a local backend and extract the counts (bell_counts)\n",
    "\n",
    "# Your code goes here"
   ]
  },
  {
   "cell_type": "code",
   "execution_count": null,
   "id": "5a884401-5bd6-456a-96e8-5fea68bd730d",
   "metadata": {
    "tags": []
   },
   "outputs": [],
   "source": [
    "plot_histogram(bell_counts)"
   ]
  },
  {
   "cell_type": "markdown",
   "id": "99c74770-4268-4652-8975-fd3e90b0373f",
   "metadata": {},
   "source": [
    "## Running on a real quantum computer"
   ]
  },
  {
   "cell_type": "code",
   "execution_count": null,
   "id": "d2f6b004-d7e3-4a1a-8bf5-25f5d599524d",
   "metadata": {
    "tags": []
   },
   "outputs": [],
   "source": [
    "# List all backends that are available for you\n",
    "\n",
    "# Your code goes here"
   ]
  },
  {
   "cell_type": "code",
   "execution_count": null,
   "id": "c59f2c93-c268-4547-89b7-4ceec79c8514",
   "metadata": {
    "tags": []
   },
   "outputs": [],
   "source": [
    "# Simpliy select the least busy backend\n",
    "\n",
    "# Your code goes here"
   ]
  },
  {
   "cell_type": "code",
   "execution_count": null,
   "id": "61e5ee69-4e70-444d-a665-e5e3c5dadea3",
   "metadata": {},
   "outputs": [],
   "source": [
    "# Or select a particular backend\n",
    "\n",
    "# Your code goes here"
   ]
  },
  {
   "cell_type": "code",
   "execution_count": null,
   "id": "a63c4ee7-555a-404c-9b4f-6070110d316c",
   "metadata": {
    "tags": []
   },
   "outputs": [],
   "source": [
    "print(f\"Native gates: {ibmq_backend.operation_names}\")"
   ]
  },
  {
   "cell_type": "markdown",
   "id": "b26e7351-ebe0-4d01-8914-a81d72082e71",
   "metadata": {},
   "source": [
    "**Note**:\n",
    "\n",
    "The job failed because the Hadamard gate is not supported as native gate instruction on the selected backend.\n",
    "\n",
    "We have to **transpile** the circuit first: Translate the gates in our circuit to natively supported gates."
   ]
  },
  {
   "cell_type": "code",
   "execution_count": null,
   "id": "491c510f-4ac4-4b9f-9e4e-9965f3e834ec",
   "metadata": {
    "tags": []
   },
   "outputs": [],
   "source": [
    "print(f'Original circuit depth {bell_circ.depth()}')\n",
    "bell_circ_tp = transpile(bell_circ, ibmq_backend)\n",
    "print(f'Transpiled circuit depth {bell_circ_tp.depth()}')\n",
    "bell_circ_tp.draw(idle_wires=False)"
   ]
  },
  {
   "cell_type": "markdown",
   "id": "cc06817a-43be-4778-b9b9-3545136aa99b",
   "metadata": {},
   "source": [
    "**Note**\n",
    "\n",
    "Transpilation usually increases the depth of our circuit."
   ]
  },
  {
   "cell_type": "code",
   "execution_count": null,
   "id": "944d21c0-672b-4e07-8f08-4897e837f944",
   "metadata": {
    "tags": []
   },
   "outputs": [],
   "source": [
    "job_bell_tp = ibmq_backend.run(bell_circ_tp)\n",
    "job_bell_tp"
   ]
  },
  {
   "cell_type": "code",
   "execution_count": null,
   "id": "2c451bcf-597c-4e00-954d-5601b806bba5",
   "metadata": {
    "tags": []
   },
   "outputs": [],
   "source": [
    "job_bell_tp.status()"
   ]
  },
  {
   "cell_type": "code",
   "execution_count": null,
   "id": "7e2abe26-91d3-4b9c-b4e1-fecba123bfb6",
   "metadata": {
    "tags": []
   },
   "outputs": [],
   "source": [
    "service.jobs()"
   ]
  },
  {
   "cell_type": "code",
   "execution_count": null,
   "id": "cdf6ae14-de32-416d-bd9a-469cdd2e5cdc",
   "metadata": {
    "tags": []
   },
   "outputs": [],
   "source": [
    "job_bell_tp_1 = service.job(\"csrsvsfvkv50008g94y0\")\n",
    "job_bell_tp_1.logs()"
   ]
  },
  {
   "cell_type": "code",
   "execution_count": null,
   "id": "e507a018-7818-401c-89ba-47cddf553873",
   "metadata": {
    "tags": []
   },
   "outputs": [],
   "source": [
    "counts = job_bell_tp_1.result().get_counts()\n",
    "plot_histogram(counts)"
   ]
  },
  {
   "cell_type": "markdown",
   "id": "72b283f7-6578-4f6a-8ce3-cc786d63ec28",
   "metadata": {
    "tags": []
   },
   "source": [
    "**Note**:\n",
    "\n",
    "The results on real quantum hardware shows measurement probabilities for the $|01\\rangle$ and $|10\\rangle$ states. This is due to **noise** (inaccuracies) in the quantum hardware."
   ]
  },
  {
   "cell_type": "markdown",
   "id": "d3a6f1b8-7d38-4522-8876-41b79637b226",
   "metadata": {},
   "source": [
    "## GHZ Circuit\n",
    "\n",
    "A GHZ state is a maximal entangled state of multiple qubits, i.e. an extension of the Bell states to more than 2 qubits."
   ]
  },
  {
   "cell_type": "code",
   "execution_count": null,
   "id": "fdbac676-155c-43f7-9002-a3da69bd7113",
   "metadata": {
    "tags": []
   },
   "outputs": [],
   "source": [
    "# Create a 3-qubit GHZ state circuit (ghz_circ)\n",
    "\n",
    "# Your code goes here"
   ]
  },
  {
   "cell_type": "code",
   "execution_count": null,
   "id": "0ceee0b4-a5bd-42e5-995d-f3eedb26bbf2",
   "metadata": {},
   "outputs": [],
   "source": [
    "# Run in simulator and plot out the measured result\n",
    "ghz_state = sv_backend.run(ghz_circ).result().get_statevector()\n",
    "ghz_probs = Statevector(ghz_state).probabilities()\n",
    "ghz_probs"
   ]
  },
  {
   "cell_type": "code",
   "execution_count": null,
   "id": "fa5d3cf9-29a7-469d-99ed-19038f527aeb",
   "metadata": {
    "tags": []
   },
   "outputs": [],
   "source": [
    "# visualize the GHZ state on a Q-Sphere\n",
    "\n",
    "# Your code goes here"
   ]
  },
  {
   "cell_type": "markdown",
   "id": "0555fa7c-8be4-4dbb-84f3-c59d648064af",
   "metadata": {},
   "source": [
    "## Larger GHZ circuit\n",
    "\n",
    "Let's take this to the next level and create an even larger GHZ state."
   ]
  },
  {
   "cell_type": "code",
   "execution_count": null,
   "id": "4ff6f013-00fd-4066-a08e-087813a33c10",
   "metadata": {
    "tags": []
   },
   "outputs": [],
   "source": [
    "n_qubits = 8\n",
    "\n",
    "big_ghz = QuantumCircuit(n_qubits)\n",
    "big_ghz.h(0)\n",
    "for i in range(n_qubits-1):\n",
    "    big_ghz.cx(i, i+1)\n",
    "big_ghz.measure_all()\n",
    "big_ghz.draw()"
   ]
  },
  {
   "cell_type": "code",
   "execution_count": null,
   "id": "3604e0ee-1c87-450f-857e-cf9dae529b70",
   "metadata": {
    "tags": []
   },
   "outputs": [],
   "source": [
    "print(f'Original big GHZ circuit depth {big_ghz.depth()}')\n",
    "big_ghz_tp = transpile(big_ghz, ibmq_backend, optimization_level=3)\n",
    "print(f'Transpiled circuit depth {big_ghz_tp.depth()}')\n",
    "big_ghz_tp.draw(idle_wires=False)"
   ]
  },
  {
   "cell_type": "code",
   "execution_count": null,
   "id": "a95d0800-d39b-48d7-80dd-7fde25ec4974",
   "metadata": {
    "tags": []
   },
   "outputs": [],
   "source": [
    "plot_circuit_layout(big_ghz_tp,ibmq_backend)"
   ]
  },
  {
   "cell_type": "code",
   "execution_count": null,
   "id": "70e63ecc-710f-4f32-8f55-eaf64f3e716e",
   "metadata": {
    "tags": []
   },
   "outputs": [],
   "source": [
    "job_big_ghz = ibmq_backend.run(big_ghz_tp)\n",
    "job_big_ghz"
   ]
  },
  {
   "cell_type": "code",
   "execution_count": null,
   "id": "57a09c64-e9b4-47eb-a6f2-281b7ab68a52",
   "metadata": {
    "tags": []
   },
   "outputs": [],
   "source": [
    "job_big_ghz_1 = service.job(\"csrt0fszsqjg008t5thg\")\n",
    "counts = job_big_ghz_1.result().get_counts()\n",
    "plot_histogram(counts)"
   ]
  },
  {
   "cell_type": "markdown",
   "id": "58fe616a-660f-4174-8796-b3870e4db413",
   "metadata": {},
   "source": [
    "## Challenge\n",
    "\n",
    "The circuit above is simple, but the overall depth of the circuit is long. This happened because the sequence of CNOT gates is serialized. The system can only execute CNOT gates on a particular qubit one at a time. Long circuit depth can be problematic as a longer circuit is more susceptible to noise and decoherence in current hardware. It would be beneficial to create the same state, but with less overall depth.\n",
    "\n",
    "Can you find a way to reduce the depth of the GHZ circuit?"
   ]
  },
  {
   "cell_type": "code",
   "execution_count": null,
   "id": "b0c096fa-b677-447c-bf8e-662bf0198385",
   "metadata": {},
   "outputs": [],
   "source": [
    "# Your code goes here"
   ]
  },
  {
   "cell_type": "code",
   "execution_count": null,
   "id": "3d771946-7cdd-4c49-9210-627fb7d12717",
   "metadata": {},
   "outputs": [],
   "source": []
  },
  {
   "cell_type": "code",
   "execution_count": null,
   "id": "483f65a9-9468-4ad5-b3e6-d281c362eca8",
   "metadata": {},
   "outputs": [],
   "source": [
    "# These are your instructors results. \n",
    "job_big_ghz_1_1 = service.job(\"csrt5jyjkdzg00885ah0\")\n",
    "counts = job_big_ghz_1_1.result().get_counts()\n",
    "plot_histogram(counts)"
   ]
  },
  {
   "cell_type": "code",
   "execution_count": null,
   "id": "644c31bb-27c2-4721-a0cf-726fe697920b",
   "metadata": {},
   "outputs": [],
   "source": []
  }
 ],
 "metadata": {
  "kernelspec": {
   "display_name": "qc_workshop",
   "language": "python",
   "name": "qc_workshop"
  },
  "language_info": {
   "codemirror_mode": {
    "name": "ipython",
    "version": 3
   },
   "file_extension": ".py",
   "mimetype": "text/x-python",
   "name": "python",
   "nbconvert_exporter": "python",
   "pygments_lexer": "ipython3",
   "version": "3.12.2"
  },
  "widgets": {
   "application/vnd.jupyter.widget-state+json": {
    "state": {
     "2ef6fc2c122d4af1b10cfa5439372147": {
      "model_module": "@jupyter-widgets/controls",
      "model_module_version": "2.0.0",
      "model_name": "HTMLStyleModel",
      "state": {
       "description_width": "",
       "font_size": null,
       "text_color": null
      }
     },
     "4b21748853fb4f2ea42713d68c3c4e81": {
      "model_module": "@jupyter-widgets/controls",
      "model_module_version": "2.0.0",
      "model_name": "ButtonStyleModel",
      "state": {
       "font_family": null,
       "font_size": null,
       "font_style": null,
       "font_variant": null,
       "font_weight": null,
       "text_color": null,
       "text_decoration": null
      }
     },
     "581a570250034bec9f79375220d5af31": {
      "model_module": "@jupyter-widgets/controls",
      "model_module_version": "2.0.0",
      "model_name": "HTMLModel",
      "state": {
       "layout": "IPY_MODEL_89ea8d9bcd694724a34cd9e3e3ff8f15",
       "style": "IPY_MODEL_b705b04e4fd54976bf3aad55a7519554",
       "value": "<h5>Queue</h5>"
      }
     },
     "58fd941661934f57b20fe0e9f13eabce": {
      "model_module": "@jupyter-widgets/base",
      "model_module_version": "2.0.0",
      "model_name": "LayoutModel",
      "state": {
       "width": "190px"
      }
     },
     "5c9eb132526c4563b50f5845640bcf63": {
      "model_module": "@jupyter-widgets/controls",
      "model_module_version": "2.0.0",
      "model_name": "HTMLModel",
      "state": {
       "layout": "IPY_MODEL_f8dd3c50e62e4c37b9f053ecde0f49d3",
       "style": "IPY_MODEL_c7adbefa5fd14fe3a5933ac770063f61",
       "value": "<h5>Backend</h5>"
      }
     },
     "63d0a5d67aa54628bb741b5e2a403036": {
      "model_module": "@jupyter-widgets/controls",
      "model_module_version": "2.0.0",
      "model_name": "HTMLStyleModel",
      "state": {
       "description_width": "",
       "font_size": null,
       "text_color": null
      }
     },
     "71b26c9d75524c37aee7aaab75ec8368": {
      "model_module": "@jupyter-widgets/base",
      "model_module_version": "2.0.0",
      "model_name": "LayoutModel",
      "state": {
       "grid_area": "right",
       "padding": "0px 0px 0px 0px",
       "width": "70px"
      }
     },
     "778ecfd8803744ff999936189583a350": {
      "model_module": "@jupyter-widgets/controls",
      "model_module_version": "2.0.0",
      "model_name": "HTMLStyleModel",
      "state": {
       "description_width": "",
       "font_size": null,
       "text_color": null
      }
     },
     "79141a4814a040389070753442e10729": {
      "model_module": "@jupyter-widgets/controls",
      "model_module_version": "2.0.0",
      "model_name": "ButtonModel",
      "state": {
       "button_style": "primary",
       "description": "Clear",
       "layout": "IPY_MODEL_71b26c9d75524c37aee7aaab75ec8368",
       "style": "IPY_MODEL_4b21748853fb4f2ea42713d68c3c4e81",
       "tooltip": null
      }
     },
     "79b4eba860694e61a425985acae43dcd": {
      "model_module": "@jupyter-widgets/controls",
      "model_module_version": "2.0.0",
      "model_name": "HTMLModel",
      "state": {
       "layout": "IPY_MODEL_58fd941661934f57b20fe0e9f13eabce",
       "style": "IPY_MODEL_2ef6fc2c122d4af1b10cfa5439372147",
       "value": "<h5>Job ID</h5>"
      }
     },
     "7ce1005d62e046aba16827157037a667": {
      "model_module": "@jupyter-widgets/controls",
      "model_module_version": "2.0.0",
      "model_name": "HTMLStyleModel",
      "state": {
       "description_width": "",
       "font_size": null,
       "text_color": null
      }
     },
     "7ff5a0d1b6614294aa9381482f878d5c": {
      "model_module": "@jupyter-widgets/controls",
      "model_module_version": "2.0.0",
      "model_name": "GridBoxModel",
      "state": {
       "children": [
        "IPY_MODEL_79141a4814a040389070753442e10729"
       ],
       "layout": "IPY_MODEL_fa77d85d2d504491aac0d59843098807"
      }
     },
     "84a4560680824e9f93e4e0ecc69fe72f": {
      "model_module": "@jupyter-widgets/controls",
      "model_module_version": "2.0.0",
      "model_name": "HTMLModel",
      "state": {
       "layout": "IPY_MODEL_ca36eeee7e274056b14bae9d25bb9efe",
       "style": "IPY_MODEL_778ecfd8803744ff999936189583a350",
       "value": "<h5>Message</h5>"
      }
     },
     "89ea8d9bcd694724a34cd9e3e3ff8f15": {
      "model_module": "@jupyter-widgets/base",
      "model_module_version": "2.0.0",
      "model_name": "LayoutModel",
      "state": {
       "width": "70px"
      }
     },
     "8f036fb7d5094023a54c8042f09c5cef": {
      "model_module": "@jupyter-widgets/controls",
      "model_module_version": "2.0.0",
      "model_name": "HTMLModel",
      "state": {
       "layout": "IPY_MODEL_cd88947846a04842b397faab505a686f",
       "style": "IPY_MODEL_7ce1005d62e046aba16827157037a667",
       "value": "<h5>Status</h5>"
      }
     },
     "9b1aa1e9541f4a44a1a3411d0271814f": {
      "model_module": "@jupyter-widgets/base",
      "model_module_version": "2.0.0",
      "model_name": "LayoutModel",
      "state": {
       "margin": "0px 0px 0px 37px",
       "width": "600px"
      }
     },
     "a1d4c32530ec40ba84bca043ccb76ed9": {
      "model_module": "@jupyter-widgets/controls",
      "model_module_version": "2.0.0",
      "model_name": "HTMLModel",
      "state": {
       "layout": "IPY_MODEL_b04c5b2c804646c6858dbc17fbc47897",
       "style": "IPY_MODEL_63d0a5d67aa54628bb741b5e2a403036",
       "value": "<p style='font-family: IBM Plex Sans, Arial, Helvetica, sans-serif; font-size: 20px; font-weight: medium;'>Circuit Properties</p>"
      }
     },
     "b04c5b2c804646c6858dbc17fbc47897": {
      "model_module": "@jupyter-widgets/base",
      "model_module_version": "2.0.0",
      "model_name": "LayoutModel",
      "state": {
       "margin": "0px 0px 10px 0px"
      }
     },
     "b705b04e4fd54976bf3aad55a7519554": {
      "model_module": "@jupyter-widgets/controls",
      "model_module_version": "2.0.0",
      "model_name": "HTMLStyleModel",
      "state": {
       "description_width": "",
       "font_size": null,
       "text_color": null
      }
     },
     "b87aefee6d4343078bfbd6924893b281": {
      "model_module": "@jupyter-widgets/controls",
      "model_module_version": "2.0.0",
      "model_name": "HBoxModel",
      "state": {
       "children": [
        "IPY_MODEL_79b4eba860694e61a425985acae43dcd",
        "IPY_MODEL_5c9eb132526c4563b50f5845640bcf63",
        "IPY_MODEL_8f036fb7d5094023a54c8042f09c5cef",
        "IPY_MODEL_581a570250034bec9f79375220d5af31",
        "IPY_MODEL_84a4560680824e9f93e4e0ecc69fe72f"
       ],
       "layout": "IPY_MODEL_9b1aa1e9541f4a44a1a3411d0271814f"
      }
     },
     "c7adbefa5fd14fe3a5933ac770063f61": {
      "model_module": "@jupyter-widgets/controls",
      "model_module_version": "2.0.0",
      "model_name": "HTMLStyleModel",
      "state": {
       "description_width": "",
       "font_size": null,
       "text_color": null
      }
     },
     "ca36eeee7e274056b14bae9d25bb9efe": {
      "model_module": "@jupyter-widgets/base",
      "model_module_version": "2.0.0",
      "model_name": "LayoutModel",
      "state": {}
     },
     "cd88947846a04842b397faab505a686f": {
      "model_module": "@jupyter-widgets/base",
      "model_module_version": "2.0.0",
      "model_name": "LayoutModel",
      "state": {
       "width": "95px"
      }
     },
     "f8dd3c50e62e4c37b9f053ecde0f49d3": {
      "model_module": "@jupyter-widgets/base",
      "model_module_version": "2.0.0",
      "model_name": "LayoutModel",
      "state": {
       "width": "145px"
      }
     },
     "fa77d85d2d504491aac0d59843098807": {
      "model_module": "@jupyter-widgets/base",
      "model_module_version": "2.0.0",
      "model_name": "LayoutModel",
      "state": {
       "grid_template_areas": "\n                                       \". . . . right \"\n                                        ",
       "grid_template_columns": "20% 20% 20% 20% 20%",
       "width": "100%"
      }
     }
    },
    "version_major": 2,
    "version_minor": 0
   }
  }
 },
 "nbformat": 4,
 "nbformat_minor": 5
}
