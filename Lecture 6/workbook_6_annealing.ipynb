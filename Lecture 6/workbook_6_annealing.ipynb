{
 "cells": [
  {
   "attachments": {},
   "cell_type": "markdown",
   "metadata": {},
   "source": [
    "#### 0. Intro\n",
    "\n",
    "In this session you will \n",
    "- use a classical optimization algorithm called **Simulated Annealing** to minimize binary-quadratic models (free to use in the d-wave package). => Dry run \n",
    "\n",
    "- then you will run an actual problem you formulated on on a **[D-wave quantum computer](https://www.dwavesys.com/solutions-and-products/systems/)**!"
   ]
  },
  {
   "cell_type": "code",
   "execution_count": 1,
   "metadata": {},
   "outputs": [],
   "source": [
    "# import necessary modules\n",
    "import matplotlib.pyplot as plt\n",
    "import seaborn as sns\n",
    "\n",
    "\n",
    "from dwave.samplers import SimulatedAnnealingSampler, SteepestDescentSolver # classical free optimizer (installed locally on your computer)\n",
    "from dwave.system import DWaveSampler, EmbeddingComposite # commercial quantum optimizer (in the cloud)\n",
    "\n",
    "from dimod import BQM # binary quadratic model object\n",
    "\n",
    "\n",
    "import numpy as np \n",
    "import pandas as pd"
   ]
  },
  {
   "attachments": {},
   "cell_type": "markdown",
   "metadata": {},
   "source": [
    "#### 1. Exercise\n",
    "\n",
    "- **Optimize an arbitrary binary-quadratic model** \n",
    "    $$ \\vec{x}^* = \\underset{\\vec{x}}{\\operatorname{argmin}} \\vec{x}Q\\vec{x} $$\n",
    "    **where $Q$ is a random matrix and $\\vec{x}^*$ is the minimum-solution vector you are looking for.**"
   ]
  },
  {
   "cell_type": "code",
   "execution_count": null,
   "metadata": {},
   "outputs": [],
   "source": [
    "# call the simulated annealing function SimulatedAnnealingSampler(), it will do the optimziation for you\n",
    "optimizer = ..."
   ]
  },
  {
   "cell_type": "code",
   "execution_count": null,
   "metadata": {},
   "outputs": [],
   "source": [
    "# generate a random 2x2 numpy matrix with uniform values between [1,2]\n",
    "matrix = ...\n",
    "matrix"
   ]
  },
  {
   "cell_type": "code",
   "execution_count": null,
   "metadata": {},
   "outputs": [],
   "source": [
    "# generate a binary-quadratic model using BQM - don't forget to pass the keyword \"BINARY\"\n",
    "bqm = ..."
   ]
  },
  {
   "cell_type": "code",
   "execution_count": null,
   "metadata": {},
   "outputs": [],
   "source": [
    "# minimze the binary-quadratic model with the optimizer.sample() function and use the seed=42\n",
    "sampleset = ...\n",
    "print('solution:', sampleset.first.sample)\n",
    "print('energy:', sampleset.first.energy)"
   ]
  },
  {
   "attachments": {},
   "cell_type": "markdown",
   "metadata": {},
   "source": [
    "You should have received the trivial solution $\\vec{x}^* = [0,0]$ with an energy value of zero (or something smaller than 1e-15 which is close enough).\n",
    "\n",
    "- **How can you change the values of the matrix such that the minimum solution is NOT the trivial solution?**"
   ]
  },
  {
   "cell_type": "code",
   "execution_count": null,
   "metadata": {},
   "outputs": [],
   "source": [
    "..."
   ]
  },
  {
   "attachments": {},
   "cell_type": "markdown",
   "metadata": {},
   "source": [
    "#### 2. Exercise\n",
    "\n",
    "The larger the matrix gets, the harder it is to find the minimum solution - this is true for both classical and quantum optimizers. \n",
    "- **Make a `for` loop for the matrices ranging from 10x10 to 200x200. The values of the matrix are again uniformly distributed between [1,2]. For each size, run the minimization 100 times with different seeds for the `solver.sample(bqm=bqm, seed=i)` function (where `i` is the index running form 0 to 100).**"
   ]
  },
  {
   "cell_type": "code",
   "execution_count": null,
   "metadata": {},
   "outputs": [],
   "source": [
    "# create the described for loop (executing can take up to 25sec)\n",
    "energies = []\n",
    "matrixsizes = ...\n",
    "for matrix in [np.random.uniform(1, 2, (n,n)) for n in matrixsizes]:\n",
    "    bqm = ...\n",
    "    samplesets = [... for i in range(100)]\n",
    "    energies.append([sampleset.first.energy for sampleset in samplesets])"
   ]
  },
  {
   "cell_type": "code",
   "execution_count": null,
   "metadata": {},
   "outputs": [],
   "source": [
    "# plotting your solutions\n",
    "df_plot = pd.DataFrame(energies).T.melt(var_name='trial', value_name='Energy').merge(pd.DataFrame(list(matrixsizes), columns=['Matrix size']), how='left', left_on='trial', right_index=True)\n",
    "g = sns.boxplot(data=df_plot, x='Matrix size', y='Energy')\n",
    "plt.gcf().set_size_inches(11.7, 8.27)"
   ]
  },
  {
   "attachments": {},
   "cell_type": "markdown",
   "metadata": {},
   "source": [
    "- **What is the interpretation of the plot.**"
   ]
  },
  {
   "attachments": {},
   "cell_type": "markdown",
   "metadata": {},
   "source": [
    "..."
   ]
  },
  {
   "attachments": {},
   "cell_type": "markdown",
   "metadata": {},
   "source": [
    "- **optional: Redo Exercise 2 but this time with the classical optimization algorithm `SteepestDescentSolver()`. Can you make out differences between the results of simulated annealing and this one?** "
   ]
  },
  {
   "cell_type": "code",
   "execution_count": null,
   "metadata": {},
   "outputs": [],
   "source": [
    "..."
   ]
  },
  {
   "attachments": {},
   "cell_type": "markdown",
   "metadata": {},
   "source": [
    "#### 3. Exercise\n",
    "\n",
    "**Problem outset**: Today is friday and you want to go out. Naturally, you want to maximize fun but **minimize spending** money on drinks.\n",
    "\n",
    "You know that the place will offer the following menu of drinks: \n",
    "\n",
    "Price in Euro | Drink | Contribution to score \n",
    "- 5,40 Long Island Ice Tea 70%\n",
    "- 5,40 Mochito 60%\n",
    "- 5,40 Erdbeer Daiquiri 50%\n",
    "- 3,50 Heineken 35%\n",
    "- 4,00 Corona 35%\n",
    "- 4,00 Eristoff Ice 20%\n",
    "- 3,50 Hugo Spritzer 25%\n",
    "- 3,00 Cola -2%\n",
    "- 2,50 Mineralwasser -5%\n",
    "- 0,00 Leitungswasser -3%\n",
    "\n",
    "The listed percentages are contributions per drink to your **\"drinking score\", which must not exceed 100%** (= be reasonably tipsy but avoid a bad hangover).\n",
    "\n",
    "**The solution** will tell you which drinks to should choose in order to save money and reach (but do not exceed) your drinking score!"
   ]
  },
  {
   "attachments": {},
   "cell_type": "markdown",
   "metadata": {},
   "source": [
    "**Your turn:**\n",
    "- (2P) **Assign binary variables**, where for example $x_1=1$ means you drink a Long Island Ice Tea ($x_1=0$ means you do not drink a Long Island Ice Tea).\n",
    "- (3P) **Define the objective** of the binar model: the objective is to minimize the total sum of euros that you might spend on drinks, e.g.\n",
    "    $$ 5.4 x_1 + 4x_4 + 3.5x_6 + 3x_7 + 2.5 x_8 $$ \n",
    "- (3P) **Add the equality constraint**: you do not want to exceed your drinking limit, so the percentages of your chosen drinks should add up to your drinking score, e.g.\n",
    "    $$ 70 x_1 + 35x_4 + 25x_6 - 2x_7 - 2x_8 = 100$$\n",
    "- (2P) **Find the minimum solution** using the **quantum computer** and explain!"
   ]
  },
  {
   "cell_type": "code",
   "execution_count": null,
   "metadata": {},
   "outputs": [],
   "source": [
    "# the menu is provided here as pandas.DataFrame\n",
    "menu = pd.DataFrame({\n",
    "    'Drink': ['Long Island Ice Tea', 'Mochito', 'Erdbeer Daiquiri', 'Heineken', 'Corona', 'Eristoff Ice', 'Hugo Spritzer', 'Cola', 'Mineralwasser', 'Leitungswasser'],\n",
    "    'Euro': [5.4, 5.4, 5.4, 3.5, 4, 4, 3.5, 3, 2.5, 0],\n",
    "    'Score': [70, 60, 50, 35, 35, 20, 25, -2, -5, -2]\n",
    "})\n",
    "menu"
   ]
  },
  {
   "cell_type": "code",
   "execution_count": null,
   "metadata": {},
   "outputs": [],
   "source": [
    "# define a binary quadratic model with BQM(\"BINARY\") and use the menu to add the drinks as variables with the according price from the menu. (check the hint below)\n",
    "bqm = ...\n",
    "for drink,euro in zip(menu.Drink, menu.Euro):\n",
    "    ..."
   ]
  },
  {
   "attachments": {},
   "cell_type": "markdown",
   "metadata": {},
   "source": [
    "HINT: use `bqm.add_variable(variable,cost)`"
   ]
  },
  {
   "cell_type": "code",
   "execution_count": null,
   "metadata": {},
   "outputs": [],
   "source": [
    "# add a linear the drinking score constraint using bqm.add_linear_equality_constraint() (hint below)\n",
    "..."
   ]
  },
  {
   "attachments": {},
   "cell_type": "markdown",
   "metadata": {},
   "source": [
    "HINT: [check the docs](https://docs.ocean.dwavesys.com/en/stable/docs_dimod/reference/generated/dimod.binary.BinaryQuadraticModel.add_linear_equality_constraint.html)"
   ]
  },
  {
   "cell_type": "code",
   "execution_count": null,
   "metadata": {},
   "outputs": [],
   "source": [
    "# set the optimization to the dwavve quantum computer (you will need a user account which provides an api token, come to me when you reached this section to get it!)\n",
    "#optimizer = EmbeddingComposite(DWaveSampler(token='TOKEN')) \n",
    "optimizer = SteepestDescentSolver()"
   ]
  },
  {
   "cell_type": "code",
   "execution_count": null,
   "metadata": {},
   "outputs": [],
   "source": [
    "sampleset = optimizer.sample(bqm=bqm)\n",
    "solution = sampleset.first.sample\n",
    "solution "
   ]
  },
  {
   "cell_type": "code",
   "execution_count": null,
   "metadata": {},
   "outputs": [],
   "source": [
    "# get the drinks where the value in the dictionary is 1\n",
    "drinks_with_value_1 = [drink for drink, value in solution.items() if value == 1]\n",
    "\n",
    "# filter the DataFrame using isin\n",
    "result = menu[menu.Drink.isin(drinks_with_value_1)]"
   ]
  },
  {
   "cell_type": "code",
   "execution_count": null,
   "metadata": {},
   "outputs": [],
   "source": [
    "# display your dinks of choice\n",
    "result.Drink"
   ]
  },
  {
   "cell_type": "code",
   "execution_count": null,
   "metadata": {},
   "outputs": [],
   "source": [
    "# get your spending and score\n",
    "result.sum()[1:]"
   ]
  },
  {
   "attachments": {},
   "cell_type": "markdown",
   "metadata": {},
   "source": [
    "- **optional: Redo the last exercice but this time with the classical optimization algorithm `SteepestDescentSolver()`. Can you make out differences between the results of the quantum annealer and the latter?** "
   ]
  },
  {
   "cell_type": "code",
   "execution_count": null,
   "metadata": {},
   "outputs": [],
   "source": [
    "..."
   ]
  }
 ],
 "metadata": {
  "kernelspec": {
   "display_name": "Python 3 (ipykernel)",
   "language": "python",
   "name": "python3"
  },
  "language_info": {
   "codemirror_mode": {
    "name": "ipython",
    "version": 3
   },
   "file_extension": ".py",
   "mimetype": "text/x-python",
   "name": "python",
   "nbconvert_exporter": "python",
   "pygments_lexer": "ipython3",
   "version": "3.12.4"
  }
 },
 "nbformat": 4,
 "nbformat_minor": 4
}
