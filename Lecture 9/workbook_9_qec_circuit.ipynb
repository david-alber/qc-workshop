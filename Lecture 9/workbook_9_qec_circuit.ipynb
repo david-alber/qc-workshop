{
 "cells": [
  {
   "cell_type": "markdown",
   "metadata": {},
   "source": [
    "## A circuit approach to a Bit-flip Repetigion Code"
   ]
  },
  {
   "cell_type": "code",
   "execution_count": null,
   "metadata": {},
   "outputs": [],
   "source": []
  },
  {
   "cell_type": "markdown",
   "metadata": {},
   "source": [
    "Strategy:\n",
    "\n",
    "- **Initialize:**\n",
    "We prepare the state $|\\Psi_0\\rangle \\rightarrow |\\Psi_1\\rangle = (\\alpha |0\\rangle + \\beta |1\\rangle)$\n",
    "\n",
    "- **Encode:**\n",
    "Map our state $|\\Psi_1\\rangle = (\\alpha |0\\rangle + \\beta |1\\rangle)$ using our encoding $U_{en}|\\Psi_1\\rangle$ to the state $ (\\alpha |000\\rangle + \\beta |111\\rangle)$.\n",
    "\n",
    "\n",
    "- **Measure stabilizers:** \n",
    "We introduce stabilizer bits. Measuring the stabilizers must tell us if a bit flip error occurred and on which of the 3 encoding qubits it happened. This gives us the error syndroms.\n",
    "\n",
    "- **Correcting errors**:\n",
    "Use dynamic circuits to use our syndrome measurements in order to correct potential errors.\n",
    "\n",
    "- **Decode:**\n",
    "Use the complex conjugate of the encoding: $U_{en}^{\\dagger}(\\alpha |000\\rangle + \\beta |111\\rangle) \\rightarrow |\\Psi_1\\rangle = (\\alpha |0\\rangle + \\beta |1\\rangle)$."
   ]
  },
  {
   "cell_type": "code",
   "execution_count": null,
   "metadata": {
    "executionInfo": {
     "elapsed": 3,
     "status": "ok",
     "timestamp": 1719246718799,
     "user": {
      "displayName": "Luise Prielinger",
      "userId": "16994785794205367254"
     },
     "user_tz": -120
    },
    "id": "3_2B2nxMXah2"
   },
   "outputs": [],
   "source": [
    "from qiskit import transpile, QuantumCircuit, QuantumRegister, ClassicalRegister\n",
    "from qiskit_aer import Aer, AerSimulator\n",
    "from qiskit_ibm_runtime.fake_provider import FakeManilaV2\n",
    "from qiskit.visualization import plot_histogram\n",
    "\n",
    "\n",
    "import warnings\n",
    "\n",
    "warnings.filterwarnings(\"ignore\")\n",
    "\n",
    "import math\n",
    "\n",
    "pi = math.pi"
   ]
  },
  {
   "cell_type": "markdown",
   "metadata": {},
   "source": [
    "### 1) Initialize"
   ]
  },
  {
   "cell_type": "code",
   "execution_count": null,
   "metadata": {},
   "outputs": [],
   "source": [
    "# Setup a base quantum circuit for our experiments\n",
    "encoding = QuantumRegister(3,name='encoding')\n",
    "stabilizer = QuantumRegister(2,name='stabilizer')\n",
    "\n",
    "encoding_q0, encoding_q1, encoding_q2 = encoding\n",
    "stabilizer_q0, stabilizer_q1 = stabilizer\n",
    "\n",
    "# Results of the encoding\n",
    "results = ClassicalRegister(3,name='result')\n",
    "\n",
    "result_b0, result_b1, result_b2 = results\n",
    "\n",
    "# For measuring the stabilizer\n",
    "syndrome = ClassicalRegister(2,name='syndrome')\n",
    "\n",
    "syndrome_b0, syndrome_b1 = syndrome\n",
    "\n",
    "# The actual qubit which is encoded\n",
    "state = encoding[0]\n",
    "\n",
    "# The ancillas used for encoding the state\n",
    "ancillas = encoding[1:]\n",
    "\n",
    "\n",
    "# Initializing\n",
    "def initialize_circuit() -> QuantumCircuit:\n",
    "    return QuantumCircuit(encoding, stabilizer, results, syndrome)"
   ]
  },
  {
   "cell_type": "code",
   "execution_count": null,
   "metadata": {},
   "outputs": [],
   "source": [
    "# Initialize the circuit and apply an X-Gate on the first encoding Qubit\n",
    "\n",
    "# Your code goes here: \n",
    "\n",
    "\n",
    "initial_state.draw(output=\"mpl\")"
   ]
  },
  {
   "cell_type": "markdown",
   "metadata": {},
   "source": [
    "### 2) Encoding\n",
    "\n",
    "Propaga the information among all encoding qubits. \n",
    "The result is an entangled state: When one qubit is measured, the outcome of the other 2 qubits is known."
   ]
  },
  {
   "cell_type": "code",
   "execution_count": null,
   "metadata": {},
   "outputs": [],
   "source": [
    "# Encoding using bit flip code\n",
    "def encode_bit_flip(qc, state, ancillas):\n",
    "    qc.barrier(state, *ancillas)\n",
    "    # Progagate the state that is encoded in the first qubit to the ancilla qubits\n",
    "    # Your code goes here: \n",
    "\n",
    "\n",
    "\n",
    "# The circuit encodes our qubit\n",
    "encoding_circuit = encode_bit_flip(initialize_circuit(), state, ancillas)\n",
    "\n",
    "# The circuit including all parts so far\n",
    "complete_circuit = initial_state.compose(encoding_circuit)\n",
    "complete_circuit.draw(output=\"mpl\")"
   ]
  },
  {
   "cell_type": "markdown",
   "metadata": {},
   "source": [
    "### 3) Measure stabilizers"
   ]
  },
  {
   "cell_type": "markdown",
   "metadata": {},
   "source": [
    "Compute syndrome bits, such that they can be measured to detect single bitflip errors. Afterwards reset the stabilizer qubits to the `0` state.\n",
    "\n",
    "Let’s get a stabilizer with the simplest possible encoding:\n",
    "\n",
    "`00` -> No error occurred \n",
    "\n",
    "`01` -> An error occurred  in qubit 0 (the first qubit)\n",
    "\n",
    "`10` -> An error occurred  in qubit 1 (the second qubit)\n",
    "\n",
    "`11` -> An error occurred  in qubit 2 (the third qubit)"
   ]
  },
  {
   "cell_type": "code",
   "execution_count": null,
   "metadata": {},
   "outputs": [],
   "source": [
    "def measure_syndrome_bit(qc, encoding, stabilizer):\n",
    "    qc.barrier()\n",
    "    encoding_q0, encoding_q1, encoding_q2 = encoding\n",
    "    stabilizer_q0, stabilizer_q1 = stabilizer\n",
    "\n",
    "    # Encode the error in the stabilizer qubits: \n",
    "    # Your code goes here:\n",
    "     # 1 = 01 = first qubit (qubit 0) flipped\n",
    "     # 2 = 10 second qubit (qubit 1) flipped\n",
    "     # 3 = 11 = third qubit (qubit 2) flipped\n",
    "     # 3 = 11 = third qubit (qubit 2) flipped\n",
    "\n",
    "    qc.barrier()\n",
    "    qc.measure(stabilizer, syndrome)\n",
    "\n",
    "    # Reset the stabilizers after measurement (if they were flipped they must be set to |0> again)\n",
    "    # Your code goes here:\n",
    "\n",
    "\n",
    "    return qc\n",
    "\n",
    "\n",
    "syndrome_circuit = measure_syndrome_bit(initialize_circuit(), encoding, stabilizer)\n",
    "\n",
    "complete_circuit = initial_state.compose(encoding_circuit).compose(syndrome_circuit)\n",
    "complete_circuit.draw(\"mpl\")"
   ]
  },
  {
   "cell_type": "markdown",
   "metadata": {},
   "source": [
    "### 4 Correcting Errors"
   ]
  },
  {
   "cell_type": "markdown",
   "metadata": {},
   "source": [
    "We will now use dynamic circuits on our syndrome measurements in order to correct potential errors.\n",
    "\n",
    "Since we chose our syndrome measurements above in a clever way, it should now be quite easy to correct the errors, since we know exactly which of the qubits is flipped, for the case of a single error."
   ]
  },
  {
   "cell_type": "code",
   "execution_count": null,
   "metadata": {},
   "outputs": [],
   "source": [
    "# Correct the errors, remember how we encoded the errors above!\n",
    "def apply_correction_bit(qc, encoding, syndrome):\n",
    "    qc.barrier()\n",
    "    encoding_q0, encoding_q1, encoding_q2 = encoding\n",
    "\n",
    "    # Your code goes here:\n",
    "        # correct for encoding 0 flip \n",
    "        # correct for encoding 1 flip\n",
    "        # correct for encoding 2 flip\n",
    "        \n",
    "    return qc\n",
    "\n",
    "\n",
    "correction_circuit = apply_correction_bit(initialize_circuit(), encoding, syndrome)\n",
    "complete_circuit = (\n",
    "    initial_state.compose(encoding_circuit)\n",
    "    .compose(syndrome_circuit)\n",
    "    .compose(correction_circuit)\n",
    ")\n",
    "complete_circuit.draw(output=\"mpl\")\n"
   ]
  },
  {
   "cell_type": "markdown",
   "metadata": {},
   "source": [
    "### 5) Decoding"
   ]
  },
  {
   "cell_type": "markdown",
   "metadata": {},
   "source": [
    "For decoding the original state, we must build a decoder which does the opposite, so a decoder $U_{de}|\\Psi_0\\rangle$ which maps $ (\\alpha |000\\rangle + \\beta |111\\rangle)$. to   $|\\Psi_1\\rangle = (\\alpha |0\\rangle + \\beta |1\\rangle)$ \n",
    "\n",
    "Since it does exactly the opposite, we can invert our encoder:\n",
    "\n",
    "$U_{de} = U_{en}^\\dagger$"
   ]
  },
  {
   "cell_type": "code",
   "execution_count": null,
   "metadata": {},
   "outputs": [],
   "source": [
    "def decode_bit_flip(qc, state, ancillas):\n",
    "    qc.barrier(state, *ancillas)\n",
    "    for ancilla in ancillas:\n",
    "        qc.cx(state, ancilla)\n",
    "    return qc\n",
    "decoding_circuit = decode_bit_flip(initialize_circuit(), state, ancillas)"
   ]
  },
  {
   "cell_type": "code",
   "execution_count": null,
   "metadata": {},
   "outputs": [],
   "source": [
    "def apply_final_readout(qc, encoding, results):\n",
    "    qc.barrier(encoding)\n",
    "    qc.measure(encoding, results)\n",
    "    return qc\n",
    "    \n",
    "\n",
    "\n",
    "measuring_circuit = apply_final_readout(initialize_circuit(), encoding, results)\n",
    "complete_circuit = (\n",
    "    initial_state.compose(encoding_circuit)\n",
    "    .compose(syndrome_circuit)\n",
    "    .compose(correction_circuit)\n",
    "    .compose(decoding_circuit)\n",
    "    .compose(measuring_circuit)\n",
    ")\n",
    "complete_circuit.draw(output=\"mpl\")"
   ]
  },
  {
   "cell_type": "markdown",
   "metadata": {},
   "source": [
    "### Testing"
   ]
  },
  {
   "cell_type": "markdown",
   "metadata": {},
   "source": [
    "Let's create noise in a controlled way and test bit-flip error correction code"
   ]
  },
  {
   "cell_type": "markdown",
   "metadata": {},
   "source": [
    "For testing purposes, we build a circuit, which introduces some errors, but in a controlled way:\n",
    "\n",
    "- We want to introduce bit flip errors, since that is what we are correcting\n",
    "\n",
    "- We want that the errors on the 3 encoding qubits are independent of each other\n",
    "\n",
    "- We want that we can choose how high the probability is that errors are introduced\n",
    "\n",
    "- We want to have our input in percentage, and the output should be a circuit which generates errors with that probability."
   ]
  },
  {
   "cell_type": "markdown",
   "metadata": {},
   "source": [
    "**Hint**\n",
    "\n",
    "When applying a $R_x(\\alpha)$ gate on $|0>$ the probabilities of measuring 0 and 1 are as follows: \n",
    "\n",
    "- $P(|0>) = cos^2 \\left( \\frac{\\alpha}{2} \\right) \\rightarrow \\alpha = 2 asin \\left( \\sqrt{p} \\right)$ \n",
    "- $P(|1>) =sin^2 \\left( \\frac{\\alpha}{2} \\right)$"
   ]
  },
  {
   "cell_type": "code",
   "execution_count": null,
   "metadata": {},
   "outputs": [],
   "source": [
    "# Add some errors as defined above (only add errors to the encoding qubits)\n",
    "def make_some_noise(qc, encoding, syndrome, error_percentage):\n",
    "    encoding_q0, encoding_q1, encoding_q2 = encoding\n",
    "    syndrome_b0, syndrome_b1 = syndrome\n",
    "    # Convert error percentage to x-rotation angle\n",
    "    p = error_percentage/100\n",
    "    angle = 2*math.asin(math.sqrt(p))\n",
    "    qc.rx(angle,encoding)\n",
    "\n",
    "    return qc"
   ]
  },
  {
   "cell_type": "code",
   "execution_count": null,
   "metadata": {},
   "outputs": [],
   "source": [
    "error_percentage = 10\n",
    "noise_circuit = make_some_noise(initialize_circuit(), encoding, syndrome, error_percentage)\n",
    "noise_circuit.draw(output=\"mpl\")"
   ]
  },
  {
   "cell_type": "code",
   "execution_count": null,
   "metadata": {},
   "outputs": [],
   "source": [
    "qc_test_error = (\n",
    "    initial_state.compose(encoding_circuit)\n",
    "    .compose(noise_circuit)\n",
    "    .compose(syndrome_circuit)\n",
    "    .compose(correction_circuit)\n",
    "    .compose(decoding_circuit)\n",
    "    .compose(measuring_circuit)\n",
    ")\n",
    "\n",
    "\n",
    "\n",
    "shots = 8000\n",
    "aer_backend = AerSimulator()\n",
    "# let the simulation run\n",
    "counts = aer_backend.run(qc_test, shots=shots).result().get_counts()\n",
    "# and plot our results\n",
    "plot_histogram(counts)"
   ]
  },
  {
   "cell_type": "markdown",
   "metadata": {},
   "source": [
    "**Note:** All bit strings that include the sequence \"001\" in the encoding qubits are valid. The syndrom qubits indicate which qubit has fliped in the experiment due the error we have set."
   ]
  },
  {
   "cell_type": "code",
   "execution_count": null,
   "metadata": {},
   "outputs": [],
   "source": [
    "print(f\"Error probability of bit flip: p={error_percentage/100}\")\n",
    "print(f\"Actual error with rep. code: {1 - sum(value for key, value in counts.items() if '001' in key)/shots}\")\n",
    "print(f\"Expected error with rep. code: {3*(error_percentage/100)**2-2*(error_percentage/100)**3}\")"
   ]
  },
  {
   "cell_type": "code",
   "execution_count": null,
   "metadata": {},
   "outputs": [],
   "source": []
  }
 ],
 "metadata": {
  "colab": {
   "authorship_tag": "ABX9TyMhYAytbt66NOEgk/OAh3D1",
   "provenance": []
  },
  "kernelspec": {
   "display_name": "qiskit_env",
   "language": "python",
   "name": "qiskit_env"
  },
  "language_info": {
   "codemirror_mode": {
    "name": "ipython",
    "version": 3
   },
   "file_extension": ".py",
   "mimetype": "text/x-python",
   "name": "python",
   "nbconvert_exporter": "python",
   "pygments_lexer": "ipython3",
   "version": "3.12.4"
  }
 },
 "nbformat": 4,
 "nbformat_minor": 4
}
