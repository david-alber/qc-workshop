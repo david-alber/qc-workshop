{
 "cells": [
  {
   "cell_type": "markdown",
   "id": "fbf4fa5d-cc7a-4699-bfd9-f31f1a8e82fb",
   "metadata": {},
   "source": [
    "# QSVMs"
   ]
  },
  {
   "cell_type": "code",
   "execution_count": null,
   "id": "524dd647-9128-40dc-b738-4737f314a9b1",
   "metadata": {},
   "outputs": [],
   "source": [
    "# Qiskit imports\n",
    "from qiskit.circuit.library import UnitaryOverlap\n",
    "from qiskit_algorithms.state_fidelities import ComputeUncompute\n",
    "from qiskit_machine_learning.kernels import FidelityQuantumKernel\n",
    "from qiskit_machine_learning.algorithms.classifiers import QSVC\n",
    "from qiskit_aer import AerSimulator, Aer\n",
    "from qiskit_aer.primitives import Sampler as AerSampler\n",
    "from qiskit_ibm_runtime import QiskitRuntimeService\n",
    "from qiskit.circuit.library import ZZFeatureMap, RealAmplitudes\n",
    "with open('api_key.txt', 'r') as file:\n",
    "    token = file.read()\n",
    "\n",
    "service = QiskitRuntimeService(channel=\"ibm_quantum\",token=token)"
   ]
  },
  {
   "cell_type": "code",
   "execution_count": null,
   "id": "d365d648-f0ef-4947-9d0e-6037fb482675",
   "metadata": {},
   "outputs": [],
   "source": [
    "from sklearn.datasets import make_blobs\n",
    "import matplotlib.pyplot as plt\n",
    "from sklearn.model_selection import train_test_split"
   ]
  },
  {
   "cell_type": "markdown",
   "id": "c0e8e275-5ca6-4db3-913c-10e7ce19da61",
   "metadata": {},
   "source": [
    "## Helper functions"
   ]
  },
  {
   "cell_type": "code",
   "execution_count": null,
   "id": "45708a27-196f-408f-8318-74b688e4e090",
   "metadata": {},
   "outputs": [],
   "source": [
    "def fidelity_circuit(ansatz_1,ansatz_2,display=False):\n",
    "    \"\"\"Create a fidelity circuit to estimate the similarity of two states.\"\"\"\n",
    "    fc = ansatz_1.copy()\n",
    "    fc.append(ansatz_2.inverse().decompose(), range(fc.num_qubits))\n",
    "    fc.measure_all()\n",
    "    if display == True:\n",
    "        print(fc.decompose())\n",
    "    return fc\n",
    "\n",
    "def plot_matrix(A, title):\n",
    "    \"\"\"Plots a given matrix A.\"\"\"\n",
    "    plt.title(title)\n",
    "    ax = plt.imshow(A, cmap='viridis')\n",
    "    plt.colorbar(ax)\n",
    "    plt.tight_layout()\n",
    "    plt.show()"
   ]
  },
  {
   "cell_type": "code",
   "execution_count": null,
   "id": "e0f4b6af-4172-4c8d-85de-4b66681ed60f",
   "metadata": {},
   "outputs": [],
   "source": [
    "# Instantiate backends\n",
    "aer_backend = AerSimulator() # a local quantum simulator\n",
    "# qasm_backend = service.get_backend('ibmq_qasm_simulator') # a remote quantum simulator\n",
    "# ibmq_backend = service.get_backend('ibm_brisbane') # a real ibm quantum computer"
   ]
  },
  {
   "cell_type": "markdown",
   "id": "1dd04514-1f70-4c38-97c9-1e567a90d408",
   "metadata": {},
   "source": [
    "## Load data"
   ]
  },
  {
   "cell_type": "markdown",
   "id": "f2fc2c1c-872f-447c-b718-41e819be212d",
   "metadata": {},
   "source": [
    "We creat a synthetic dataset."
   ]
  },
  {
   "cell_type": "code",
   "execution_count": null,
   "id": "fe21a979-f47e-4ba6-979f-3ea8153ef9f6",
   "metadata": {},
   "outputs": [],
   "source": [
    "feature_dim = 2\n",
    "X,y = make_blobs(n_samples=100, n_features=feature_dim, centers=2)\n",
    "plt.scatter(X[:,0],X[:,1],c=y)"
   ]
  },
  {
   "cell_type": "markdown",
   "id": "1398ec33-858d-4a91-8a7a-90617855d341",
   "metadata": {},
   "source": [
    "Create a **training** and **test** set for featurevector and labels."
   ]
  },
  {
   "cell_type": "code",
   "execution_count": null,
   "id": "5780b63a-f385-4273-a59e-2755b59b2484",
   "metadata": {},
   "outputs": [],
   "source": [
    "X_train, X_test, y_train, y_test = train_test_split(X,y,test_size=0.33)"
   ]
  },
  {
   "cell_type": "markdown",
   "id": "e1212f27-b265-43a3-949a-9f7f23e8ea91",
   "metadata": {},
   "source": [
    "## Define Ansatz - Feature Map"
   ]
  },
  {
   "cell_type": "code",
   "execution_count": null,
   "id": "e34973d0-9af1-4170-bb1a-68142530f18a",
   "metadata": {},
   "outputs": [],
   "source": [
    "# Define a ZZ feature map circuit (ansatz_zz) as ansatz. Display the circuit and its decomposition.\n",
    "\n",
    "# Your code goes here"
   ]
  },
  {
   "cell_type": "code",
   "execution_count": null,
   "id": "5b74db05-622a-4dcf-a2ca-6ccdd76ff47a",
   "metadata": {},
   "outputs": [],
   "source": [
    "fc = UnitaryOverlap(ansatz_zz,ansatz_zz)\n",
    "display(fc.draw())\n",
    "fc.decompose(reps=1).draw()"
   ]
  },
  {
   "cell_type": "markdown",
   "id": "ca35f51d-e1af-4825-9131-79d0fdbdef20",
   "metadata": {},
   "source": [
    "**Note:**\n",
    "\n",
    "This fidelity circuit corresponds to the Kernel definition $K_{ij} = \\langle 0| U^{\\dagger}_{\\phi(x^i)} U_{\\phi(x^j)} |0 \\rangle$. \n"
   ]
  },
  {
   "cell_type": "markdown",
   "id": "e5328fc0-dda8-4ea6-b51a-5d6483580268",
   "metadata": {},
   "source": [
    "## Instantiate the QSVC object"
   ]
  },
  {
   "cell_type": "code",
   "execution_count": null,
   "id": "4dd8f770-7634-46d2-b444-c3db828a24f9",
   "metadata": {},
   "outputs": [],
   "source": [
    "# Instantiate the QSVC object\n",
    "\n",
    "# Your code goes here\n"
   ]
  },
  {
   "cell_type": "markdown",
   "id": "375fd16f-ef78-4fe6-ad77-6cd59c3de5e7",
   "metadata": {},
   "source": [
    "## Train"
   ]
  },
  {
   "cell_type": "code",
   "execution_count": null,
   "id": "a3af1bd0-19b3-45e6-bfb1-65342dd56741",
   "metadata": {},
   "outputs": [],
   "source": [
    "# Train the QSVC classifier\n",
    "\n",
    "# Your code goes here"
   ]
  },
  {
   "cell_type": "code",
   "execution_count": null,
   "id": "aa5dbfea-9df4-4d03-99f2-766339b9a7fc",
   "metadata": {},
   "outputs": [],
   "source": [
    "K_train = qsvc.quantum_kernel.evaluate(x_vec=X_train)\n",
    "plot_matrix(K_train,title='Train Kernel (sim)')\n",
    "print(y_train)"
   ]
  },
  {
   "cell_type": "markdown",
   "id": "05e8bd39-8b01-4f83-9233-de92146de13a",
   "metadata": {},
   "source": [
    "## Test"
   ]
  },
  {
   "cell_type": "code",
   "execution_count": null,
   "id": "83d8ce06-e171-451a-98a3-b543d9b8cc70",
   "metadata": {},
   "outputs": [],
   "source": [
    "score_train = qsvc.score(X_train, y_train)\n",
    "print(f\"Test score: {score_train}\")\n",
    "\n",
    "score_test = qsvc.score(X_test, y_test)\n",
    "print(f\"Test score: {score_test}\")"
   ]
  },
  {
   "cell_type": "markdown",
   "id": "debabe6b-b0da-4154-ba28-aabda2c6310e",
   "metadata": {},
   "source": [
    "**Note:**\n",
    "\n",
    "This is a bad accuracy score for such a primitive dataset. It indicates that the chosen feature map is suboptimal for the data set at hand. I am sure you can do better :). \n"
   ]
  },
  {
   "cell_type": "markdown",
   "id": "14ef49b2-bbb0-4d2c-a1c5-1ed54779b389",
   "metadata": {},
   "source": [
    "**Challenge:**\n",
    "\n",
    "Try to find a feature map (parameterized QC) that produces better train/test accuracy.\n",
    "\n",
    "You can design your own, or experiment with the prebuilt set of circuits from the [Qiskit Circuit Library](https://docs.quantum.ibm.com/api/qiskit/circuit_library).\n",
    "\n",
    "Also experiment with different ways to preprocess your data."
   ]
  },
  {
   "cell_type": "code",
   "execution_count": null,
   "id": "d6dec74e-d9e6-474c-8a6b-79832a6c892a",
   "metadata": {},
   "outputs": [],
   "source": []
  }
 ],
 "metadata": {
  "kernelspec": {
   "display_name": "qiskit_env",
   "language": "python",
   "name": "qiskit_env"
  },
  "language_info": {
   "codemirror_mode": {
    "name": "ipython",
    "version": 3
   },
   "file_extension": ".py",
   "mimetype": "text/x-python",
   "name": "python",
   "nbconvert_exporter": "python",
   "pygments_lexer": "ipython3",
   "version": "3.12.4"
  }
 },
 "nbformat": 4,
 "nbformat_minor": 5
}
