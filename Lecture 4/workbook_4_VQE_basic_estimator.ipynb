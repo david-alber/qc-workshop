{
 "cells": [
  {
   "cell_type": "markdown",
   "id": "bd3e0b9f-c711-4fb0-a611-f587472637e0",
   "metadata": {},
   "source": [
    "# VQE Basic Estimator"
   ]
  },
  {
   "cell_type": "markdown",
   "id": "2da895c3-8a24-4bb8-afbe-8db3d8075471",
   "metadata": {},
   "source": [
    "This notebook intends to give a **basic** introduction on the Variational Quantum Eigensolver routine. \n",
    "\n",
    "We will infer the **minimal eigenvalue** of the **Pauli-Z matrix by executing the VQE routine on a Quantum Simulator and a real Quantum Computer**"
   ]
  },
  {
   "cell_type": "markdown",
   "id": "ccce180e-a621-4bf5-a718-028d3dab4b14",
   "metadata": {},
   "source": [
    "## Imports"
   ]
  },
  {
   "cell_type": "code",
   "execution_count": null,
   "id": "c944055e",
   "metadata": {
    "tags": []
   },
   "outputs": [],
   "source": [
    "import numpy as np\n",
    "import pandas as pd\n",
    "import matplotlib.pyplot as plt\n",
    "import matplotlib.ticker as tck\n",
    "from qiskit_aer import AerSimulator\n",
    "from qiskit.circuit import Parameter\n",
    "from qiskit.quantum_info import SparsePauliOp\n",
    "from qiskit.quantum_info.operators import Operator\n",
    "from qiskit_ibm_runtime import QiskitRuntimeService, Session, Options, Estimator\n",
    "from qiskit.transpiler.preset_passmanagers import generate_preset_pass_manager\n",
    "from qiskit_algorithms.optimizers import SPSA\n",
    "from qiskit import QuantumCircuit, QuantumRegister\n",
    "from qiskit.visualization import visualize_transition\n",
    "service = QiskitRuntimeService(channel='ibm_quantum')"
   ]
  },
  {
   "cell_type": "code",
   "execution_count": null,
   "id": "4c74aead-7b91-473d-89a0-1df1dad37014",
   "metadata": {},
   "outputs": [],
   "source": [
    "import warnings\n",
    "warnings.simplefilter(action='ignore')"
   ]
  },
  {
   "cell_type": "markdown",
   "id": "dda0cd0d-7210-4aa2-8733-099719c0a316",
   "metadata": {},
   "source": [
    "Some helper functions for plotting.\n",
    "\n",
    "Nothing fancy here :). "
   ]
  },
  {
   "cell_type": "code",
   "execution_count": null,
   "id": "41e4de79",
   "metadata": {
    "tags": []
   },
   "outputs": [],
   "source": [
    "def plot_expect_landscape(phases,result_landscape,params=None,energy_list=None):\n",
    "    plt.plot(phases/np.pi, result_landscape.values, label=r'$E= \\langle 0| R_y^{\\dagger}(\\theta) Z  R_y(\\theta) |0 \\rangle$')\n",
    "    if params != None and energy_list != None:\n",
    "        plt.plot(np.array(params)/np.pi,energy_list,'o',label='Optimizer')\n",
    "    plt.title(r'Expectation value $<\\psi(\\theta)|Z|\\psi(\\theta)>$ with variation in $\\theta$')\n",
    "    ax = plt.gca()\n",
    "    ax.grid(True)\n",
    "    ax.xaxis.set_major_formatter(tck.FormatStrFormatter('%g $\\pi$'))\n",
    "    ax.xaxis.set_major_locator(tck.MultipleLocator(base=1/2))\n",
    "    plt.xlabel(r'$\\theta$')\n",
    "    plt.ylabel(r'$<\\psi(\\theta)|Z|\\psi(\\theta)>$')\n",
    "    plt.legend()\n",
    "    plt.show()\n",
    "\n",
    "def backend_information(backend):\n",
    "    print('Configuration:')\n",
    "    print('  Name: ', backend.configuration().backend_name)\n",
    "    print('  Version: ', backend.configuration().backend_version)\n",
    "    print('  N-Qubits: ', backend.configuration().n_qubits)\n",
    "    print('  Basis Gates: ',backend.configuration().basis_gates)\n",
    "    print('Status:')\n",
    "    print('  Operational: ', backend.status().operational)\n",
    "    print('  Pending jobs:', backend.status().pending_jobs)\n",
    "    print('  Status message:', backend.status().status_msg)"
   ]
  },
  {
   "cell_type": "markdown",
   "id": "1abd68d4-8af2-4848-a484-a982c9c81ecd",
   "metadata": {},
   "source": [
    "## Defining the optimization problem\n",
    "\n",
    "Lets define a simple toy problem: The Pauli-Z matrix."
   ]
  },
  {
   "cell_type": "code",
   "execution_count": null,
   "id": "80cea252-6556-455f-b716-8f3e1ac213ec",
   "metadata": {
    "tags": []
   },
   "outputs": [],
   "source": [
    "# Define the Pauli Z operator \"ops\" using the SparsePauliOp class\n",
    "# Print the operator.\n",
    "\n",
    "# Your code goes here:\n"
   ]
  },
  {
   "cell_type": "markdown",
   "id": "c073d114-4010-4933-aa5a-1a8d20725dae",
   "metadata": {},
   "source": [
    "## Defining the ansatz\n",
    "\n",
    "We choose a parameterized quantum circuit (Rotational-Y-Gate) as ansatz.\n",
    "\n",
    "By varying the free parameter $\\theta$ of this circuit we will derive ever closer approximations to the lowest eigenvalue of our problem.\n",
    "\n",
    "(live coding)"
   ]
  },
  {
   "cell_type": "code",
   "execution_count": null,
   "id": "b99ddf8d",
   "metadata": {
    "tags": []
   },
   "outputs": [],
   "source": [
    "# Define the ansatz: a function that creates a QC with a rot-y gate applied to the 1st qubit\n",
    "\n",
    "# Your code goes here:\n"
   ]
  },
  {
   "cell_type": "code",
   "execution_count": null,
   "id": "d6f7b382",
   "metadata": {
    "tags": []
   },
   "outputs": [],
   "source": [
    "# Define a placeholder parameter \"theta\".\n",
    "# Draw the ansath circuit using the placeholder parameter as input.\n",
    "\n",
    "# Your code goes here:"
   ]
  },
  {
   "cell_type": "markdown",
   "id": "e789c4f3-33b9-47d9-a905-d9db5f91c7d6",
   "metadata": {
    "tags": []
   },
   "source": [
    "Lets visualize how the qubit state changes for different values of the parameter $\\theta$:"
   ]
  },
  {
   "cell_type": "code",
   "execution_count": null,
   "id": "e193c6b5",
   "metadata": {
    "tags": []
   },
   "outputs": [],
   "source": [
    "visualize_transition(qc_roty.assign_parameters({theta:2*np.pi}))"
   ]
  },
  {
   "cell_type": "code",
   "execution_count": null,
   "id": "6adede80",
   "metadata": {
    "tags": []
   },
   "outputs": [],
   "source": [
    "ansatz = qc_roty"
   ]
  },
  {
   "cell_type": "markdown",
   "id": "43eb4c40-00e8-4149-a532-2ce1bb66bef8",
   "metadata": {},
   "source": [
    "## Visualize the problem landscape\n",
    "\n",
    "We can get an intuition about our problem landscape by evaluating the expectation value of the problem, the Pauli Z matrix, with respect to our chosen ansatz, the rotational Y gate."
   ]
  },
  {
   "cell_type": "code",
   "execution_count": null,
   "id": "9675904f",
   "metadata": {
    "tags": []
   },
   "outputs": [],
   "source": [
    "# Depict the problem landscape by evaluating the eigenvalues for several trial states\n",
    "# Define the trial states by specifying theta from 0 to 4 pi..\n",
    "phases = np.linspace(0, 4*np.pi, 100)\n",
    "individual_phases = [[ph] for ph in phases]"
   ]
  },
  {
   "cell_type": "markdown",
   "id": "dcce374b-7fc7-4565-9ca2-fd96ba17aa63",
   "metadata": {},
   "source": [
    "To evaluate the expacation value for the chosen trial states, we first have to choose a backend on which the simulation is run. \n",
    "\n",
    "Let's first choose the a local simulator that mimics the a real hardware system. This is a **classical compute resources that simulate Quantum behaviour.** \n",
    "\n",
    "Note:\n",
    "Let's not forget to transpile to the ISA of the underlying hardware."
   ]
  },
  {
   "cell_type": "code",
   "execution_count": null,
   "id": "cdc0bba6-f443-47fa-9619-c1364d389785",
   "metadata": {},
   "outputs": [],
   "source": [
    "real_backend = service.backend('ibm_brisbane')\n",
    "sim_backend = AerSimulator.from_backend(real_backend)\n",
    "sim_backend"
   ]
  },
  {
   "cell_type": "code",
   "execution_count": null,
   "id": "48a711d5-3533-4d91-90a3-2d18bc4ebaee",
   "metadata": {},
   "outputs": [],
   "source": [
    "pm = generate_preset_pass_manager(backend=sim_backend, optimization_level=3)\n",
    "isa_ansatz = pm.run(ansatz)\n",
    "isa_ansatz.draw(idle_wires=False)"
   ]
  },
  {
   "cell_type": "code",
   "execution_count": null,
   "id": "e1b100aa-34ba-4f19-a81c-5849838140e0",
   "metadata": {},
   "outputs": [],
   "source": [
    "isa_ops = ops.apply_layout(layout=isa_ansatz.layout)\n",
    "isa_ops"
   ]
  },
  {
   "cell_type": "markdown",
   "id": "c4fab23d-88b7-444f-81ce-1e7e57f76280",
   "metadata": {},
   "source": [
    "Lets start the simulation: \n",
    "\n",
    "- With the 'Session' context manager we can establish a connection to the backend (and close this connection immediately after the computation is over)\n",
    "- We can evaluate the eigenvalue of an observable w.r.t to a trial state, using the Qiskit-Runtime-Primitive \"Estimator\"."
   ]
  },
  {
   "cell_type": "code",
   "execution_count": null,
   "id": "41e40ce9",
   "metadata": {
    "tags": []
   },
   "outputs": [],
   "source": [
    "# Use the session context manager to evaluate the trail wave fundtions, on our observable. (circuits,parameter_values,observables)\n",
    "\n",
    "# Your code goes here: \n"
   ]
  },
  {
   "cell_type": "code",
   "execution_count": null,
   "id": "c339a5cc",
   "metadata": {
    "tags": []
   },
   "outputs": [],
   "source": [
    "plot_expect_landscape(phases,result_landscape)"
   ]
  },
  {
   "cell_type": "markdown",
   "id": "64436e60-29a1-4da6-b8de-fea020873fc1",
   "metadata": {},
   "source": [
    "Some insights from this graph: \n",
    "\n",
    "- The minimal eigenvalue of the Pauli Z matrix is -1. \n",
    "- The problem is ($2 \\pi$) periodic."
   ]
  },
  {
   "cell_type": "markdown",
   "id": "347a84e1-ea37-46b9-bfd7-2e64346fe5fa",
   "metadata": {},
   "source": [
    "## Solve the optimization problem with a Quantum simulator\n",
    "\n",
    "Now its time for VQE: \n",
    "\n",
    "We will now use the VQE-routine to infer the minimal eigenvalue.\n",
    "\n",
    "Remember: \n",
    "\n",
    "- Our objective is to find the minimal eigenvalue of the Pauli-Z matrix.\n",
    "- A classical optimization algorithm will evaluate the slack parameters $\\theta$ of our ansatz."
   ]
  },
  {
   "cell_type": "code",
   "execution_count": null,
   "id": "7e5622b6",
   "metadata": {
    "tags": []
   },
   "outputs": [],
   "source": [
    "# Define the VQE routine to infer the minimal expectation value\n",
    "def custom_vqe_estimator(estimator,ansatz,ops,service,backend,optimizer=None,initial_point=None):\n",
    "    energy_list = []\n",
    "    param_list = []\n",
    "    \n",
    "    #Objective function is the expectation value E = <psi(theta)|OPS|psi(theta)>\n",
    "    def objective_function(params):\n",
    "        # The cost is the expectation value of the observable\n",
    "\n",
    "        # Your code goes here: \n",
    "\n",
    "        \n",
    "        print(f'Backend: {estimator.session.backend()} - Cost: {cost}')\n",
    "        return cost\n",
    "    \n",
    "    # Call back function\n",
    "    def callback(x,fx,ax,tx,nx):\n",
    "    # Callback function to get a view on internal states and statistics of the optimizer for visualization\n",
    "        energy_list.append(ax)\n",
    "        param_list.append(fx)\n",
    "            \n",
    "    if initial_point is None:\n",
    "        initial_point = np.random.random(ansatz.num_parameters)\n",
    "\n",
    "    # Define optimizer and pass callback function\n",
    "    if optimizer == None:\n",
    "        optimizer = SPSA(maxiter=10, callback=callback)\n",
    "        \n",
    "       # Define minimize function\n",
    "    result =  optimizer.minimize(fun=objective_function,x0=initial_point)\n",
    "\n",
    "\n",
    "    return  param_list, energy_list, result           "
   ]
  },
  {
   "cell_type": "code",
   "execution_count": null,
   "id": "565f246b",
   "metadata": {
    "tags": []
   },
   "outputs": [],
   "source": [
    "# Evaluate minimal expectation value with the VQE routine\n",
    "# Check job progress on quantum-computing.ibm.com -> jobs.\n",
    "with Session(service=service,backend=sim_backend) as session:\n",
    "    estimator_sim = Estimator(session=session)\n",
    "    param_list_sim,energy_list_sim,result_vqe = custom_vqe_estimator(estimator_sim,\n",
    "                                                             isa_ansatz,\n",
    "                                                             isa_ops,\n",
    "                                                             service,\n",
    "                                                             sim_backend,\n",
    "                                                             optimizer=None,\n",
    "                                                             initial_point=[1/2*np.pi])\n",
    "params_sim = [p[0] for p in param_list_sim]"
   ]
  },
  {
   "cell_type": "markdown",
   "id": "a1c398b8-c130-4762-8519-ad791fc1750c",
   "metadata": {},
   "source": [
    "Let's visualize the path our optimizer was taking."
   ]
  },
  {
   "cell_type": "code",
   "execution_count": null,
   "id": "d36821a5",
   "metadata": {
    "tags": []
   },
   "outputs": [],
   "source": [
    "plot_expect_landscape(phases,result_landscape,params_sim,energy_list_sim)"
   ]
  },
  {
   "cell_type": "markdown",
   "id": "5e7b6227-62aa-406c-86e2-df920301cfd3",
   "metadata": {},
   "source": [
    "## P-set 3"
   ]
  },
  {
   "cell_type": "markdown",
   "id": "0d9377be-7fed-414f-b65c-2ca30c5c1286",
   "metadata": {},
   "source": [
    "1) 20 points\n",
    "\n",
    "Considering the Pauli-Y gate as an observable:\n",
    "- Choose an Ansatz (parameterized quantum circuit) that is able to capture the minimum eigenvalu of this observable.\n",
    "- Write a function that takes a parameter (float) as input and returns your ansatz as parameterized quntum circuit. (Use Qiskit)\n",
    "\n",
    "2) 20 points\n",
    "\n",
    "Visualize the problem landscape:\n",
    "- evaluate the expectation value for the Pauli-Y observable and your choice of Ansatz for various parameters.\n",
    "The plot should depict the input parameters on the x-axis and the respective expectation value on the y axis.\n",
    "(Use Qiskit).\n",
    "- For what parameter is the expectation value minimal? Does that match your solution from p-set 2? (Answere in text.)\n",
    "\n",
    "Hint: 100 parameters ranging from 0 to 4 $\\pi$ should capture your problem landscape adequately)\n",
    "\n",
    "3) 60 points\n",
    "\n",
    "Choosing the Pauli-Y gate as your observable: Write your custom VQE routine to infer the minimal eigenvalue of this observable with your choice of Ansatz. (Use Qiskit)\n",
    "\n",
    "Feel free to experiment with different optimizers and respective hyperparameters\n",
    "\n",
    "\n"
   ]
  }
 ],
 "metadata": {
  "kernelspec": {
   "display_name": "qiskit_env",
   "language": "python",
   "name": "qiskit_env"
  },
  "language_info": {
   "codemirror_mode": {
    "name": "ipython",
    "version": 3
   },
   "file_extension": ".py",
   "mimetype": "text/x-python",
   "name": "python",
   "nbconvert_exporter": "python",
   "pygments_lexer": "ipython3",
   "version": "3.12.4"
  },
  "widgets": {
   "application/vnd.jupyter.widget-state+json": {
    "state": {},
    "version_major": 2,
    "version_minor": 0
   }
  }
 },
 "nbformat": 4,
 "nbformat_minor": 5
}
