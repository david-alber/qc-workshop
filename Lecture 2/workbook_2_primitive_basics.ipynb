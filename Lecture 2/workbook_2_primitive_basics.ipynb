{
 "cells": [
  {
   "cell_type": "markdown",
   "id": "bd3e0b9f-c711-4fb0-a611-f587472637e0",
   "metadata": {},
   "source": [
    "# Primitives basics"
   ]
  },
  {
   "cell_type": "markdown",
   "id": "5ce6b78f",
   "metadata": {},
   "source": [
    "There are currently 2 supported Qiskit primitives: **Sampler** and **Estimator**.\n",
    "\n",
    "1) **Sampler**: Calculate the quasi-probabilities of bitstrings form quantum circuits.\n",
    "    - Quantum circuits $\\psi_i(\\theta)$.\n",
    "    - Parameter values: $\\theta_k$.\n",
    "\n",
    "\n",
    "2) **Estimator**: Estimate expectation values of quantum circuits and observables. \n",
    "    - Quantum circuits $\\psi_i(\\theta)$. A list of (parameterized) quantum circuits.\n",
    "    - Observables $H_j$.\n",
    "    - Parameter values $\\theta_k$. A list of values to be bound to the parameters of th quantum circuits."
   ]
  },
  {
   "cell_type": "code",
   "execution_count": null,
   "id": "db12d69d",
   "metadata": {},
   "outputs": [],
   "source": [
    "import numpy as np\n",
    "import matplotlib.pyplot as plt\n",
    "import warnings\n",
    "\n",
    "from qiskit import QuantumCircuit\n",
    "from qiskit.circuit import Parameter\n",
    "from qiskit.quantum_info import SparsePauliOp\n",
    "from qiskit_aer.primitives import Sampler as AerSampler\n",
    "from qiskit_aer.primitives import Estimator as AerEstimator\n",
    "from qiskit_aer import AerSimulator\n",
    "from qiskit.transpiler.preset_passmanagers import generate_preset_pass_manager\n",
    "from qiskit_ibm_runtime import QiskitRuntimeService, Session, Options, Estimator, Sampler\n",
    "from qiskit.visualization import plot_histogram\n",
    "\n",
    "with open('../../api_key.txt', 'r') as file:\n",
    "    token = file.read()\n",
    "\n",
    "warnings.simplefilter(action='ignore', )"
   ]
  },
  {
   "cell_type": "code",
   "execution_count": null,
   "id": "619ab54e",
   "metadata": {},
   "outputs": [],
   "source": [
    "def backend_information(backend):\n",
    "    print('Configuration:')\n",
    "    print('  Name: ', backend.configuration().backend_name)\n",
    "    print('  Version: ', backend.configuration().backend_version)\n",
    "    print('  N-Qubits: ', backend.configuration().n_qubits)\n",
    "    print('  Basis Gates: ',backend.configuration().basis_gates)\n",
    "    print('Status:')\n",
    "    print('  Operational: ', backend.status().operational)\n",
    "    print('  Pending jobs:', backend.status().pending_jobs)\n",
    "    print('  Status message:', backend.status().status_msg)"
   ]
  },
  {
   "cell_type": "markdown",
   "id": "1b327076",
   "metadata": {},
   "source": [
    "### 1) Sampler"
   ]
  },
  {
   "cell_type": "code",
   "execution_count": null,
   "id": "15bea930",
   "metadata": {},
   "outputs": [],
   "source": [
    "# Lets creat a parameterized Quantum Circuit using the Ry gate and measuring all qubits.\n",
    "\n",
    "# Your code goes here:\n"
   ]
  },
  {
   "cell_type": "code",
   "execution_count": null,
   "id": "210e1449",
   "metadata": {},
   "outputs": [],
   "source": [
    "# Define a set of parameters from 0 to 2 pi as list of lists\n",
    "\n",
    "# Your code goes here: \n"
   ]
  },
  {
   "cell_type": "markdown",
   "id": "0846382b",
   "metadata": {},
   "source": [
    "### Local execution on Aer Backend"
   ]
  },
  {
   "cell_type": "code",
   "execution_count": null,
   "id": "982a22f9",
   "metadata": {},
   "outputs": [],
   "source": [
    "# Evaluate the QC for every parameter using the sampler primitive\n",
    "\n",
    "# Your code goes here: \n"
   ]
  },
  {
   "cell_type": "code",
   "execution_count": null,
   "id": "fcbafd95",
   "metadata": {},
   "outputs": [],
   "source": [
    "# Gather the results\n",
    "# The probablity of measuring |0> for each theta\n",
    "prob_values_0 = [dist.get(0, 0) for dist in result.quasi_dists]\n",
    "# The probablity of measuring |1> for each theta\n",
    "prob_values_1 = [dist.get(1, 0) for dist in result.quasi_dists]\n"
   ]
  },
  {
   "cell_type": "code",
   "execution_count": null,
   "id": "17353b4f",
   "metadata": {},
   "outputs": [],
   "source": [
    "plt.plot(phases, prob_values_0, 'o', label=r'$P_0 = |<0|\\psi(\\phi)>|^2 = |<0|R_y(\\theta)|0>|^2$')\n",
    "plt.plot(phases, prob_values_1, 'o', label=r'$P_1 = |<1|\\psi(\\phi)>|^2 = |<1|R_x(\\theta)|0>|^2$')\n",
    "plt.xlabel(r'Phase $\\phi$')\n",
    "plt.ylabel(r'Probability')\n",
    "plt.legend()"
   ]
  },
  {
   "cell_type": "markdown",
   "id": "3a4e858d",
   "metadata": {},
   "source": [
    "### Execution on local fake provider (Quantum Simulator)\n",
    "\n",
    "We first need to instantiate the backend."
   ]
  },
  {
   "cell_type": "code",
   "execution_count": null,
   "id": "8d365aff",
   "metadata": {},
   "outputs": [],
   "source": [
    "service = QiskitRuntimeService(channel='ibm_quantum')\n",
    "real_backend = service.least_busy(min_num_qubits=5,\n",
    "                             operational=True,\n",
    "                             simulator=False\n",
    ")\n",
    "\n",
    "backend_information(real_backend)"
   ]
  },
  {
   "cell_type": "markdown",
   "id": "593f7f12",
   "metadata": {},
   "source": [
    "Now we establish a fake backend that mimics the configuration (layout and noise) of the real backend."
   ]
  },
  {
   "cell_type": "code",
   "execution_count": null,
   "id": "70102f0a-84a3-4f49-8daf-d2d5320a00da",
   "metadata": {},
   "outputs": [],
   "source": [
    "fake_backend = AerSimulator.from_backend(real_backend)\n",
    "fake_backend"
   ]
  },
  {
   "cell_type": "markdown",
   "id": "67869252-f85c-475a-82b0-bf8e22e89ec9",
   "metadata": {},
   "source": [
    "Before we can execute the circuit we need to transpile it to the ISA of the underlying hardware system."
   ]
  },
  {
   "cell_type": "code",
   "execution_count": null,
   "id": "822b0268-9c9a-45b1-a4d0-3a9792142db6",
   "metadata": {},
   "outputs": [],
   "source": [
    "pm = generate_preset_pass_manager(backend=fake_backend, optimization_level=3)\n",
    "isa_qc = pm.run(qc)"
   ]
  },
  {
   "cell_type": "code",
   "execution_count": null,
   "id": "4dcd1b96",
   "metadata": {},
   "outputs": [],
   "source": [
    "# Sample the isa quantum circuit using the Qiskit Runtime Session and the Sampler primitive.\n",
    "# Use the 'individual_phases' as parameter sweep\n",
    "# Extract the result as 'result_fake'\n",
    "\n",
    "# Your code goes here:\n"
   ]
  },
  {
   "cell_type": "code",
   "execution_count": null,
   "id": "736325a4-7cb0-4840-99f6-4dd9c549fa0f",
   "metadata": {},
   "outputs": [],
   "source": [
    "prob_values_0_fake = [dist.get(0, 0) for dist in result_fake.quasi_dists]\n",
    "# The probablity of measuring |1> for each theta\n",
    "prob_values_1_fake = [dist.get(1, 0) for dist in result_fake.quasi_dists]"
   ]
  },
  {
   "cell_type": "markdown",
   "id": "f24135ef",
   "metadata": {},
   "source": [
    "### Execution on real IBM-Quantum devices\n",
    "\n",
    "We have already instantiated our backend."
   ]
  },
  {
   "cell_type": "markdown",
   "id": "71e39244",
   "metadata": {},
   "source": [
    "Lets verify this information on the [IBM-Quantum-Platform](https://quantum-computing.ibm.com/)\n",
    "\n",
    "We can now use this backend similar to how we used the Simulator backend via the cloud: just specify the real backend as backend."
   ]
  },
  {
   "cell_type": "code",
   "execution_count": null,
   "id": "d2db4760-1f5d-45c4-a782-a2c97c1b13b1",
   "metadata": {},
   "outputs": [],
   "source": [
    "real_backend"
   ]
  },
  {
   "cell_type": "code",
   "execution_count": null,
   "id": "1942e0db",
   "metadata": {},
   "outputs": [],
   "source": [
    "with Session(service=service,backend=real_backend) as session:\n",
    "    sampler = Sampler(session=session)\n",
    "    job = sampler.run(circuits=[isa_qc]*len(individual_phases),\n",
    "            parameter_values=individual_phases)\n",
    "job"
   ]
  },
  {
   "cell_type": "code",
   "execution_count": null,
   "id": "e04bd500-4468-41a1-ab08-bc08f41dcb72",
   "metadata": {},
   "outputs": [],
   "source": [
    "# Retrieve the results of your job: \n",
    "\n",
    "# job = service.job('csy0hfd8cwag008wpp4g')\n",
    "# result_real = job.result()"
   ]
  },
  {
   "cell_type": "code",
   "execution_count": null,
   "id": "32c61e5f",
   "metadata": {},
   "outputs": [],
   "source": [
    "# Gather the results\n",
    "# The probablity of measuring |0> for each theta\n",
    "prob_values_0_real = [dist.get(0, 0) for dist in result_real.quasi_dists]\n",
    "# The probablity of measuring |1> for each theta\n",
    "prob_values_1_real = [dist.get(1, 0) for dist in result_real.quasi_dists]"
   ]
  },
  {
   "cell_type": "code",
   "execution_count": null,
   "id": "fdaaacef",
   "metadata": {},
   "outputs": [],
   "source": [
    "plt.plot(phases, prob_values_0, '-o', label=r'$P_0 - Simulator$')\n",
    "plt.plot(phases, prob_values_1, '-o', label=r'$P_1 - Simulator$')\n",
    "plt.plot(phases, prob_values_0_fake, '--', label=r'$P_0 - Fake$')\n",
    "plt.plot(phases, prob_values_1_fake, '--', label=r'$P_1 - Fake$')\n",
    "plt.plot(phases, prob_values_0_real, '-*', label=r'$P_0 - Real$')\n",
    "plt.plot(phases, prob_values_1_real, '-*', label=r'$P_1 - Real$')\n",
    "plt.xlabel(r'Phase $\\phi$')\n",
    "plt.ylabel(r'Probability')\n",
    "plt.legend()"
   ]
  },
  {
   "cell_type": "markdown",
   "id": "687dadef",
   "metadata": {},
   "source": [
    "**Note**: All evaluations for the the whole range of parameters will be executed in one go. This is the power of **Primitives** and **Sessions**"
   ]
  },
  {
   "cell_type": "markdown",
   "id": "720e5759",
   "metadata": {},
   "source": []
  }
 ],
 "metadata": {
  "kernelspec": {
   "display_name": "qiskit_env",
   "language": "python",
   "name": "qiskit_env"
  },
  "language_info": {
   "codemirror_mode": {
    "name": "ipython",
    "version": 3
   },
   "file_extension": ".py",
   "mimetype": "text/x-python",
   "name": "python",
   "nbconvert_exporter": "python",
   "pygments_lexer": "ipython3",
   "version": "3.12.4"
  },
  "widgets": {
   "application/vnd.jupyter.widget-state+json": {
    "state": {},
    "version_major": 2,
    "version_minor": 0
   }
  }
 },
 "nbformat": 4,
 "nbformat_minor": 5
}
