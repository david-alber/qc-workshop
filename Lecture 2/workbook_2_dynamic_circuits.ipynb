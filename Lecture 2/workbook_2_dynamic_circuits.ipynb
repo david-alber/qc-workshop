{
 "cells": [
  {
   "cell_type": "markdown",
   "id": "690b6cbb-db4a-48f6-bcfd-69419659e2a7",
   "metadata": {},
   "source": [
    "# Dynamic circuits"
   ]
  },
  {
   "cell_type": "code",
   "execution_count": null,
   "id": "6e00f7e5-fbce-48cd-9565-a7573d508812",
   "metadata": {},
   "outputs": [],
   "source": [
    "# Importing standard Qiskit libraries\n",
    "from qiskit import QuantumCircuit, QuantumRegister, ClassicalRegister, transpile\n",
    "from qiskit.result import marginal_counts\n",
    "from qiskit.visualization import *\n",
    "from qiskit_aer import AerSimulator, Aer\n",
    "from qiskit.transpiler.preset_passmanagers import generate_preset_pass_manager\n",
    "from qiskit_aer.primitives import Sampler as AerSampler\n",
    "from qiskit_ibm_runtime import QiskitRuntimeService, Session, Sampler\n",
    "import numpy as np\n",
    "from IPython.display import Image\n",
    "# Ignore future warnings\n",
    "\n",
    "with open('../..api_key.txt', 'r') as file:\n",
    "    token = file.read()\n",
    "\n",
    "import warnings\n",
    "warnings.simplefilter(action='ignore')"
   ]
  },
  {
   "cell_type": "markdown",
   "id": "ff4ed09d-83dc-40ff-a8af-fc71ab9af88f",
   "metadata": {},
   "source": [
    "**Dynamic circuits** are quantum circuits that contain mid-circuit measurements where the results of those measurements are used to condition quantum gates later in the circuit. The ability to condition future quantum operations on the classical measurement results is known as classical feedforward.\n",
    "\n",
    "Dynamic circuits are quantum circuits that include control flow such as if statements and while loops"
   ]
  },
  {
   "cell_type": "code",
   "execution_count": null,
   "id": "e81cd73e-027b-452a-ae53-6d5da3c5065c",
   "metadata": {},
   "outputs": [],
   "source": [
    "qr = QuantumRegister(2)\n",
    "cr = ClassicalRegister(2)\n",
    "qc = QuantumCircuit(qr, cr)\n",
    "\n",
    "q0, q1 = qr\n",
    "b0, b1 = cr\n",
    "\n",
    "qc.h(q0)\n",
    "\n",
    "# Create a dynamic circuit that:\n",
    "# 1) applies an x gate to q1 if the bit 0 is 0\n",
    "# 1) applies an h gate to q1 if the bit 0 is 1\n",
    "\n",
    "# Your code goes here:\n",
    "\n",
    "qc.measure(q0, b0)\n",
    "\n",
    "\n"
   ]
  },
  {
   "cell_type": "markdown",
   "id": "78a0b719-8ee5-4e80-b1e7-eb8a8cf3193f",
   "metadata": {},
   "source": [
    "**Question:**\n",
    "\n",
    "Considering the circuit above:\n",
    "\n",
    "What are (roughly) the expected counts for the $|00\\rangle$, $|01\\rangle$, $|10\\rangle$, $|11\\rangle$ states?"
   ]
  },
  {
   "cell_type": "code",
   "execution_count": null,
   "id": "e45abac7-b8c1-4cd9-86d3-f93f92bf674c",
   "metadata": {},
   "outputs": [],
   "source": [
    "aer_backend = AerSimulator()"
   ]
  },
  {
   "cell_type": "code",
   "execution_count": null,
   "id": "ba0b15ce-c50b-462e-b11a-c5fcf690c553",
   "metadata": {},
   "outputs": [],
   "source": [
    "# Execute the dynamic circuit (qc) on a local backend. Extract the counts.\n",
    "service = QiskitRuntimeService(channel='ibm_quantum',token=token)\n",
    "real_backend = service.backend('ibm_brisbane')\n",
    "fake_backend = AerSimulator.from_backend(real_backend)\n",
    "fake_backend"
   ]
  },
  {
   "cell_type": "markdown",
   "id": "3d3dd8be-2915-4b78-9a98-752c4a93d235",
   "metadata": {},
   "source": [
    "Transpile to ISA"
   ]
  },
  {
   "cell_type": "code",
   "execution_count": null,
   "id": "7895b3d0-bf1f-401a-910c-031ca6ad05ec",
   "metadata": {},
   "outputs": [],
   "source": [
    "pm = generate_preset_pass_manager(backend=fake_backend, optimization_level=3)\n",
    "isa_qc = pm.run(qc)\n",
    "isa_qc.draw(idle_wires=False)"
   ]
  },
  {
   "cell_type": "code",
   "execution_count": null,
   "id": "43f05659-ac5e-4d38-a06f-eb992213de9f",
   "metadata": {},
   "outputs": [],
   "source": [
    "with Session(service=service,backend=fake_backend) as session:\n",
    "    sampler = Sampler(session=session)\n",
    "    result = sampler.run([isa_qc]).result()"
   ]
  },
  {
   "cell_type": "code",
   "execution_count": null,
   "id": "d576c7df-8b28-4982-8033-4bf11ce6ccda",
   "metadata": {},
   "outputs": [],
   "source": [
    "counts = result.quasi_dists\n",
    "counts"
   ]
  },
  {
   "cell_type": "code",
   "execution_count": null,
   "id": "e51c3634-7f7f-46fc-a13e-ee32ff080659",
   "metadata": {},
   "outputs": [],
   "source": [
    "plot_histogram(counts)"
   ]
  },
  {
   "cell_type": "markdown",
   "id": "2f1fa72b-ae51-4761-be33-a9a2083a3c7a",
   "metadata": {},
   "source": [
    "Note that the bar lables correspond to the binary representation of the states \n",
    "* 1 -> |01>\n",
    "* 2 -> |10>\n",
    "* 3 -> |11>"
   ]
  },
  {
   "cell_type": "markdown",
   "id": "1dbaa617-2250-4a04-9f7a-7fe4bced6594",
   "metadata": {},
   "source": [
    "## Quantum Teleportation\n"
   ]
  },
  {
   "cell_type": "markdown",
   "id": "ebea23a5-329b-418c-900a-6e10fe3d02bf",
   "metadata": {},
   "source": [
    "Alice possesses a qubit in an unknown state $\\lvert \\psi \\rangle$ and she wishes to transfer this quantum state to Bob. She can not simply clone or copy the state, but she can transfer the her qubit state to Bob.\n",
    "\n",
    "By sending two bits of classical information Bob will at the end possess $\\lvert \\psi \\rangle$, and Alice will no longer have it. This is known as teleportation.\n",
    "\n",
    "The protocol requires three qubits:\n",
    "\n",
    "1. The qubit to be teleported (Alice's qubit)\n",
    "2. One half of an entangled pair of qubits (Alice's second qubit)\n",
    "3. The other half of the entangled pair (Bob's qubit)\n",
    "\n",
    "The protocol can be summarized in the following steps:\n",
    "\n",
    "1. Create an entangled pair of qubits (Bell pair) shared between Alice and Bob.\n",
    "2. Alice performs a Bell basis measurement on her two qubits.\n",
    "3. Alice sends the classical results of her measurement to Bob.\n",
    "4. Bob applies appropriate quantum gates based on Alice's measurement results to obtain the teleported state."
   ]
  },
  {
   "cell_type": "code",
   "execution_count": null,
   "id": "385618cb-3cbf-4ffe-acb7-bba858ed5978",
   "metadata": {},
   "outputs": [],
   "source": [
    "Image(filename='images/quantum_teleportation.jpeg') "
   ]
  },
  {
   "cell_type": "code",
   "execution_count": null,
   "id": "54b12574-1420-420b-bf53-12c18a7aadcb",
   "metadata": {},
   "outputs": [],
   "source": [
    "qr = QuantumRegister(3, name=\"q\")\n",
    "cr = ClassicalRegister(3, name=\"c\")\n",
    "s, a, b = qr\n",
    "c0, c1, c2 = cr"
   ]
  },
  {
   "cell_type": "code",
   "execution_count": null,
   "id": "e52c7c4f-90c3-4476-beea-154a88a165ad",
   "metadata": {},
   "outputs": [],
   "source": [
    "def create_bell_pair(qr: QuantumRegister, cr: ClassicalRegister) -> QuantumCircuit:\n",
    "    \"\"\"Creates a bell pair between qubits a and b.\"\"\"\n",
    "    qc = QuantumCircuit(qr, cr)\n",
    "    # the first qubit is s but we won't be using it in this exercise\n",
    "    s, a, b = qr\n",
    "    # Create a bell pair between alice and bob.\n",
    "    \n",
    "    # Your code goes here:\n",
    "    \n",
    "    return qc"
   ]
  },
  {
   "cell_type": "code",
   "execution_count": null,
   "id": "20c34fb8-5c76-49d5-b80a-e2ed4aa65d40",
   "metadata": {},
   "outputs": [],
   "source": [
    "def alice_gates(qr: QuantumRegister, cr: ClassicalRegister) -> QuantumCircuit:\n",
    "    \"\"\"Creates Alices's gates\"\"\"\n",
    "    qc = QuantumCircuit(qr, cr)\n",
    "    s, a, b = qr\n",
    "    # Perform a bell basis measurement on alices qubits (s,a)\n",
    "    qc.cx(s,a)\n",
    "    qc.h(s)\n",
    "    return qc"
   ]
  },
  {
   "cell_type": "code",
   "execution_count": null,
   "id": "37189c5a-dc9d-4b72-9123-3a382538c007",
   "metadata": {},
   "outputs": [],
   "source": [
    "def measure_and_send(qr: QuantumRegister, cr: ClassicalRegister):\n",
    "    \"\"\"Measures qubits a & b and 'sends' the results to Bob\"\"\"\n",
    "    qc = QuantumCircuit(qr, cr)\n",
    "    s, a, b = qr\n",
    "    c0, c1, c2 = cr\n",
    "    qc.measure([a,s],[c0,c1])\n",
    "    return qc"
   ]
  },
  {
   "cell_type": "code",
   "execution_count": null,
   "id": "fbf93ae3-475b-4760-b245-d20732a4146b",
   "metadata": {},
   "outputs": [],
   "source": [
    "def bob_gates(qr: QuantumRegister, cr: ClassicalRegister):\n",
    "    \"\"\"Uses qc.if_test to control which gates are dynamically added\"\"\"\n",
    "    qc = QuantumCircuit(qr, cr)\n",
    "    s, a, b = qr\n",
    "    c0, c1, c2 = cr\n",
    "    # If the bits are `00`, no action is required.\n",
    "    # If they are `01`, an 𝑋 gate (also known as a Pauli-X or a bit-flip gate) should be applied.\n",
    "    # For bits `10`, a 𝑍 gate (also known as a Pauli-Z or a phase-flip gate) should be applied. \n",
    "    # Lastly, if the classical bits are `11`, a combined 𝑍𝑋 sequence should be applied.\n",
    "\n",
    "    # Your code goes here: \n",
    "    \n",
    "    return qc"
   ]
  },
  {
   "cell_type": "code",
   "execution_count": null,
   "id": "871b3ca8-129d-415e-9d66-0615701a1607",
   "metadata": {},
   "outputs": [],
   "source": [
    "# Compose a circuit (inplace) with the name 'teleport' that incorporates the following steps:\n",
    "# 1) create a bell pair\n",
    "# 2) apply alices gates\n",
    "# 3) measure and send\n",
    "# 4) apply bobs gates\n",
    "# 5) measure\n",
    "\n",
    "# Your code goes here:\n",
    "\n"
   ]
  },
  {
   "cell_type": "code",
   "execution_count": null,
   "id": "fae8e121-f8a7-4321-97d7-0557887f83a8",
   "metadata": {},
   "outputs": [],
   "source": [
    "# define source qubit\n",
    "source = QuantumCircuit(qr,cr)\n",
    "source.ry(np.pi/4,0)\n",
    "source.draw()"
   ]
  },
  {
   "cell_type": "code",
   "execution_count": null,
   "id": "d9b26250-58db-410c-a31d-c1bf5a43ed16",
   "metadata": {},
   "outputs": [],
   "source": [
    "teleport_source = source.compose(teleport)\n",
    "teleport_source.draw()"
   ]
  },
  {
   "cell_type": "code",
   "execution_count": null,
   "id": "73d8dd65-6217-435b-a974-4aedd158109b",
   "metadata": {},
   "outputs": [],
   "source": [
    "# run job source \n",
    "source.measure_all()\n",
    "counts_source = aer_backend.run(source, shots=4000).result().get_counts()"
   ]
  },
  {
   "cell_type": "code",
   "execution_count": null,
   "id": "ef6e33b2-46ec-46fd-92c1-2732298a146b",
   "metadata": {},
   "outputs": [],
   "source": [
    "plot_histogram(counts_source)"
   ]
  },
  {
   "cell_type": "code",
   "execution_count": null,
   "id": "02b1bdc8-8923-4914-a220-1cd81f6c0d7a",
   "metadata": {},
   "outputs": [],
   "source": [
    "pm = generate_preset_pass_manager(backend=real_backend,optimization_level=3)\n",
    "isa_teleport_source = pm.run(teleport_source)"
   ]
  },
  {
   "cell_type": "code",
   "execution_count": null,
   "id": "f7e9c630-5dae-43c1-b0bc-5026a7f00061",
   "metadata": {},
   "outputs": [],
   "source": [
    "# run teleport source on ibmq backend\n",
    "job_teleport_source = real_backend.run(isa_teleport_source, dynamic=True)\n",
    "job_teleport_source"
   ]
  },
  {
   "cell_type": "code",
   "execution_count": null,
   "id": "e9684999-493a-4c5c-b029-195c1efbee0a",
   "metadata": {},
   "outputs": [],
   "source": [
    "# Retrieve your results as soon as the job is finished\n",
    "\n",
    "# counts_teleport_source = service.job(\"csy1a48yn5c0008bx5p0\").result().get_counts()\n",
    "# counts_teleport_source"
   ]
  },
  {
   "cell_type": "code",
   "execution_count": null,
   "id": "c799e75f-cf4a-49f9-a5c5-c3d90b8d3cac",
   "metadata": {},
   "outputs": [],
   "source": [
    "plot_histogram(counts_teleport_source)"
   ]
  },
  {
   "cell_type": "code",
   "execution_count": null,
   "id": "a09a5383-ae80-4937-88a2-b18a06d08c8b",
   "metadata": {},
   "outputs": [],
   "source": [
    "bobs_counts = marginal_counts(counts_teleport_source, [qr.index(b)])\n",
    "plot_histogram(bobs_counts)"
   ]
  },
  {
   "cell_type": "code",
   "execution_count": null,
   "id": "e08a3f5a-e15e-494c-9c03-4dd0fa42cf04",
   "metadata": {},
   "outputs": [],
   "source": []
  }
 ],
 "metadata": {
  "kernelspec": {
   "display_name": "qc_env",
   "language": "python",
   "name": "qc_env"
  },
  "language_info": {
   "codemirror_mode": {
    "name": "ipython",
    "version": 3
   },
   "file_extension": ".py",
   "mimetype": "text/x-python",
   "name": "python",
   "nbconvert_exporter": "python",
   "pygments_lexer": "ipython3",
   "version": "3.10.13"
  }
 },
 "nbformat": 4,
 "nbformat_minor": 5
}
