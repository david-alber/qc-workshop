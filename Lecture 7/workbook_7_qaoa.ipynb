{
 "cells": [
  {
   "cell_type": "markdown",
   "id": "c570bbb0-75b1-4762-a2ed-c167a2c1acd8",
   "metadata": {},
   "source": [
    "# QAOA "
   ]
  },
  {
   "cell_type": "code",
   "execution_count": null,
   "id": "cae07dbb-c01d-4c48-b52c-f0f6359f69ff",
   "metadata": {},
   "outputs": [],
   "source": [
    "from qiskit_aer import AerSimulator\n",
    "from qiskit.quantum_info import SparsePauliOp\n",
    "from qiskit.circuit.library import QAOAAnsatz\n",
    "from qiskit_ibm_runtime import QiskitRuntimeService, Session, EstimatorV2 as Estimator, SamplerV2 as Sampler\n",
    "from scipy.optimize import minimize\n",
    "from qiskit.transpiler.preset_passmanagers import generate_preset_pass_manager\n",
    "import rustworkx as rx\n",
    "from rustworkx.visualization import mpl_draw as draw_graph\n",
    "import numpy as np\n",
    "import matplotlib.pyplot as plt\n",
    "from matplotlib import cm\n",
    "from matplotlib.ticker import LinearLocator"
   ]
  },
  {
   "cell_type": "markdown",
   "id": "9a840f89-79f3-480e-944b-69bd79dba0c2",
   "metadata": {},
   "source": [
    "## The problem: \n",
    "\n",
    "The goal of this problem is to partition the vertices $V$ of a graph $G={V,E}$ into two sets $S$ and $T$ such that the number of edges $E$ between $S$ and $T$ traversed by this cut is maximized.\n",
    "\n",
    "**Note:** In this examples all edges have weight 1."
   ]
  },
  {
   "cell_type": "code",
   "execution_count": null,
   "id": "42ebefbd-9d5a-40fc-9a3a-4a3678f361e7",
   "metadata": {},
   "outputs": [],
   "source": [
    "n = 5 # Number of vertices/nodes\n",
    "\n",
    "graph = rx.PyGraph()\n",
    "graph.add_nodes_from(np.arange(0, n, 1))\n",
    "edge_list = [(0, 1, 1.0), (0, 2, 1.0), (0, 4, 1.0), (1, 2, 1.0), (2, 3, 1.0), (3, 4, 1.0)]\n",
    "graph.add_edges_from(edge_list)\n",
    "draw_graph(graph, node_size=600, with_labels=True)"
   ]
  },
  {
   "cell_type": "markdown",
   "id": "b5ca2381-0cd1-4f15-9d63-337d620fd790",
   "metadata": {},
   "source": [
    "## Map optimization problem to Hamiltonian"
   ]
  },
  {
   "cell_type": "code",
   "execution_count": null,
   "id": "0e70adb7-2706-4e8d-b534-c862eb7f4d79",
   "metadata": {},
   "outputs": [],
   "source": [
    "edge_0 = graph.edge_list()[0] # 0th edge\n",
    "edge_0"
   ]
  },
  {
   "cell_type": "code",
   "execution_count": null,
   "id": "69f90575-b3d9-4e66-8278-0abe1f248f83",
   "metadata": {},
   "outputs": [],
   "source": [
    "graph.get_edge_data(edge_0[0], edge_0[1]) # weight of 0th edge"
   ]
  },
  {
   "cell_type": "code",
   "execution_count": null,
   "id": "706a6243-f7fd-4cf4-90b5-b73a7bcf70ae",
   "metadata": {},
   "outputs": [],
   "source": [
    "def build_max_cut_paulis(graph):\n",
    "    \"\"\"\n",
    "    Convert the graph to Pauli list.\n",
    "    \"\"\"\n",
    "    pauli_list = []\n",
    "    for edge in list(graph.edge_list()):\n",
    "        # Instantiate pauli identity operators\n",
    "        # Your code goes here: \n",
    "        \n",
    "        # Set Z operators for every pair or nodes that are connected via an edge\n",
    "        # Your code goes here:\n",
    "\n",
    "        weight = graph.get_edge_data(edge[0], edge[1])\n",
    "        # Join in reverse order from list of strings to a single string\n",
    "        pauli_list.append((\"\".join(paulis)[::-1], weight))\n",
    "\n",
    "    hamiltonian = SparsePauliOp.from_list(pauli_list)\n",
    "\n",
    "    return hamiltonian\n",
    "\n",
    "\n",
    "hamiltonian = build_max_cut_paulis(graph)\n",
    "\n",
    "print(\"Cost Function Hamiltonian:\", hamiltonian)"
   ]
  },
  {
   "cell_type": "markdown",
   "id": "f6edc28c-3698-40f2-ac7a-4af663470d6b",
   "metadata": {},
   "source": [
    "## Create an ansatz suitable for the QAOA hamiltonian"
   ]
  },
  {
   "cell_type": "code",
   "execution_count": null,
   "id": "167b0908-1b38-4cde-930b-eb0a4bc5e56b",
   "metadata": {},
   "outputs": [],
   "source": [
    "# Create a QAOA 'ansatz' circuit using the hamiltonian that was derived before as cost operator.\n",
    "# Your code goes here:\n",
    "\n"
   ]
  },
  {
   "cell_type": "code",
   "execution_count": null,
   "id": "50150e91-6a1e-4a97-b020-67cc295e8e33",
   "metadata": {},
   "outputs": [],
   "source": [
    "ansatz.decompose(reps=3).draw('mpl')"
   ]
  },
  {
   "cell_type": "code",
   "execution_count": null,
   "id": "a3c284bc-6701-403a-8aa6-a5593ef58e00",
   "metadata": {},
   "outputs": [],
   "source": [
    "print(f\"Number of parameters in ansatz: {ansatz.num_parameters}\")\n",
    "print(f\"Number of qubits in ansatz: {ansatz.num_qubits}\")"
   ]
  },
  {
   "cell_type": "markdown",
   "id": "a337ce70-f7c8-428b-8a1c-5ca91e9280e9",
   "metadata": {},
   "source": [
    "## Define cost function"
   ]
  },
  {
   "cell_type": "code",
   "execution_count": null,
   "id": "4e31e899-6a93-4ef2-a59c-ab95c0350a97",
   "metadata": {},
   "outputs": [],
   "source": [
    "def cost_func_estimator(params, ansatz, hamiltonian, estimator):\n",
    "    # Definie the cost function of this QAOA problem using a primitive unified block (pub).\n",
    "    # Note: the cost is represented by the expecation value of the hamiltonian w.r.t. to the\n",
    "    # trail wave function (ansatz circuit) and a particular set of prameters.\n",
    "    \n",
    "    # Your code goes here:\n",
    "    \n",
    "    objective_func_vals.append(cost)\n",
    "\n",
    "    return cost"
   ]
  },
  {
   "cell_type": "markdown",
   "id": "d284ecd1-5ae8-4ddd-979b-01427df95f0c",
   "metadata": {},
   "source": [
    "## Optimize circuits for quantum hardware execution"
   ]
  },
  {
   "cell_type": "code",
   "execution_count": null,
   "id": "a7a95d58-2a1e-4498-8d7c-e385e3768ac4",
   "metadata": {},
   "outputs": [],
   "source": [
    "def transpile_problem_hardware(backend,circuit,hamiltonian):\n",
    "    pm = generate_preset_pass_manager(optimization_level=3,\n",
    "                                    backend=backend)\n",
    "    # map the virtual circuit to an ISA on physical qubits\n",
    "    isa_circuit = pm.run(circuit)\n",
    "    # transform the observable defined on virtual qubits to\n",
    "    # an observable defined on all physical qubits\n",
    "    isa_hamiltonian = hamiltonian.apply_layout(isa_circuit.layout)\n",
    "    return isa_circuit, isa_hamiltonian"
   ]
  },
  {
   "cell_type": "code",
   "execution_count": null,
   "id": "f04f8439-3653-4005-8428-30bba9503667",
   "metadata": {},
   "outputs": [],
   "source": [
    "sim_backend = AerSimulator()\n",
    "#service = QiskitRuntimeService(channel='ibm_quantum')\n",
    "#real_backend = service.least_busy(operational=True, simulator=False)\n",
    "#real_backend"
   ]
  },
  {
   "cell_type": "code",
   "execution_count": null,
   "id": "a244275e-b3db-48d2-97af-1027b3fb35a3",
   "metadata": {},
   "outputs": [],
   "source": [
    "isa_ansatz, isa_hamiltonian = transpile_problem_hardware(sim_backend,ansatz,hamiltonian)"
   ]
  },
  {
   "cell_type": "markdown",
   "id": "474998da-eefc-4caf-a84b-7f39521b9a8e",
   "metadata": {},
   "source": [
    "## Evaluate cost landscape (sim backend)"
   ]
  },
  {
   "cell_type": "code",
   "execution_count": null,
   "id": "ce9da644-0f67-4bcc-8b8a-ccb3fabb9050",
   "metadata": {},
   "outputs": [],
   "source": [
    "objective_func_vals = [] \n",
    "n_samples = 50\n",
    "beta = np.linspace(0, np.pi, n_samples)\n",
    "gamma = np.linspace(0, 2*np.pi, n_samples)\n",
    "cost_landscape = np.zeros((n_samples,n_samples))\n",
    "\n",
    "with Session(backend=sim_backend) as session:\n",
    "    estimator = Estimator(mode=session)\n",
    "    for i, beta_i in enumerate(beta):\n",
    "        for j, gamma_j in enumerate(gamma):\n",
    "            objective_func_vals = [] \n",
    "            params_ij = [beta_i,gamma_j]\n",
    "            cost_landscape[i,j] = cost_func_estimator(params_ij, isa_ansatz, isa_hamiltonian, estimator)\n",
    "            "
   ]
  },
  {
   "cell_type": "code",
   "execution_count": null,
   "id": "6919aaee-0758-4643-bf52-a52122223b41",
   "metadata": {},
   "outputs": [],
   "source": [
    "#%matplotlib widget\n",
    "# Plot the cost landscape\n",
    "fig, ax = plt.subplots(subplot_kw={\"projection\": \"3d\"})\n",
    "beta_v, gamma_v = np.meshgrid(beta,gamma)\n",
    "surf = ax.plot_surface(beta_v, gamma_v, cost_landscape, cmap=cm.cool,alpha=0.5)\n",
    "fig.colorbar(surf, shrink=0.5, aspect=5)\n",
    "plt.show()"
   ]
  },
  {
   "cell_type": "markdown",
   "id": "45071c9c-62ec-4867-b604-759302d31c67",
   "metadata": {},
   "source": [
    "**Note:**\n",
    "- The landscape is $\\pi$ periodic, which is due to the periodic nature of the rotation gates in our ansatz.\n",
    "- There are 4 minima within the parameter sweep $\\beta \\in [0,\\pi], \\gamma \\in [0,\\pi]$"
   ]
  },
  {
   "cell_type": "markdown",
   "id": "483d3af8-1699-44a5-af80-6a20c8e5a690",
   "metadata": {},
   "source": [
    "## Minimize cost (real backend)"
   ]
  },
  {
   "cell_type": "code",
   "execution_count": null,
   "id": "4b4538e5-e88c-4df7-804f-9d33d6af41b5",
   "metadata": {},
   "outputs": [],
   "source": [
    "objective_func_vals = [] \n",
    "init_params = np.random.uniform(0,np.pi,size=ansatz.num_parameters)\n",
    "init_params"
   ]
  },
  {
   "cell_type": "code",
   "execution_count": null,
   "id": "bbd93e69-1f84-4296-9409-76890e5306d6",
   "metadata": {},
   "outputs": [],
   "source": [
    "#isa_ansatz, isa_hamiltonian = transpile_problem_hardware(real_backend,ansatz,hamiltonian)"
   ]
  },
  {
   "cell_type": "code",
   "execution_count": null,
   "id": "c59be425-853f-46b7-a721-fbe795739005",
   "metadata": {},
   "outputs": [],
   "source": [
    "with Session(backend=sim_backend) as session:\n",
    "    estimator = Estimator(mode=session)\n",
    "    estimator.options.default_shots = 1000\n",
    "\n",
    "    # Set simple error suppression/mitigation options\n",
    "    #estimator.options.dynamical_decoupling.enable = True\n",
    "    #estimator.options.dynamical_decoupling.sequence_type = \"XY4\"\n",
    "    #estimator.options.twirling.enable_gates = True\n",
    "    #estimator.options.twirling.num_randomizations = \"auto\"\n",
    "\n",
    "    result = minimize(\n",
    "        cost_func_estimator,\n",
    "        init_params,\n",
    "        args=(isa_ansatz, isa_hamiltonian, estimator),\n",
    "        method=\"COBYLA\",\n",
    "        tol=1e-3,\n",
    "    )\n",
    "    print(result)"
   ]
  },
  {
   "cell_type": "code",
   "execution_count": null,
   "id": "dca61443-dd38-44b6-bf6b-608ecfecb0a7",
   "metadata": {},
   "outputs": [],
   "source": [
    "plt.figure()\n",
    "plt.plot(objective_func_vals)\n",
    "plt.xlabel(\"Iteration\")\n",
    "plt.ylabel(\"Cost\")\n",
    "plt.show()"
   ]
  },
  {
   "cell_type": "code",
   "execution_count": null,
   "id": "6db1217f-73df-40bb-a7c9-e3bd32d624be",
   "metadata": {},
   "outputs": [],
   "source": [
    "#%matplotlib widget\n",
    "# Plot the cost landscape\n",
    "fig, ax = plt.subplots(subplot_kw={\"projection\": \"3d\"})\n",
    "beta_v, gamma_v = np.meshgrid(beta,gamma)\n",
    "surf = ax.plot_surface(beta_v, gamma_v, cost_landscape, cmap=cm.cool,alpha=0.5)\n",
    "fig.colorbar(surf, shrink=0.5, aspect=5)\n",
    "ax.scatter(result.x[0],result.x[1],result.fun,color='black',s=30)\n",
    "\n",
    "plt.show()"
   ]
  },
  {
   "cell_type": "markdown",
   "id": "07b54373-a83a-4f1a-9fbc-5e3a38ae62f7",
   "metadata": {},
   "source": [
    "## Sample solution from optimized circuit"
   ]
  },
  {
   "cell_type": "code",
   "execution_count": null,
   "id": "01ff0b56-b3c2-4dfd-852b-dea63dd373e1",
   "metadata": {},
   "outputs": [],
   "source": [
    "# Assign the parameters to the 'isa_ansatz' that where used to evaluate the smallest observable\n",
    "\n",
    "# Your code goes here:\n"
   ]
  },
  {
   "cell_type": "code",
   "execution_count": null,
   "id": "1f6b06db-8dfa-4a16-8066-8ffbf3962039",
   "metadata": {},
   "outputs": [],
   "source": [
    "sampler = Sampler(mode=sim_backend)\n",
    "sampler.options.default_shots = 10000\n",
    "\n",
    "# Set simple error suppression/mitigation options\n",
    "sampler.options.dynamical_decoupling.enable = True\n",
    "sampler.options.dynamical_decoupling.sequence_type = \"XY4\"\n",
    "sampler.options.twirling.enable_gates = True\n",
    "sampler.options.twirling.num_randomizations = \"auto\"\n",
    "\n",
    "pub= (optimized_circuit, )\n",
    "job = sampler.run([pub])"
   ]
  },
  {
   "cell_type": "markdown",
   "id": "80e38343-85bd-4bde-a225-d214ef6388dc",
   "metadata": {},
   "source": [
    "## Post process results"
   ]
  },
  {
   "cell_type": "code",
   "execution_count": null,
   "id": "1d630f7c-a8a9-4243-a846-18c7ded85101",
   "metadata": {},
   "outputs": [],
   "source": [
    "counts_int = job.result()[0].data.meas.get_int_counts()\n",
    "counts_bin = job.result()[0].data.meas.get_counts()\n",
    "shots = sum(counts_int.values())\n",
    "final_distribution_int = {key: val/shots for key, val in counts_int.items()}\n",
    "final_distribution_bin = {key: val/shots for key, val in counts_bin.items()}\n",
    "\n",
    "print(final_distribution_bin)\n",
    "most_likely_bitstring = max(final_distribution_bin, key=final_distribution_bin.get)\n",
    "most_likely_bitlist = [int(ele) for ele in [*most_likely_bitstring]][::-1]\n",
    "print(f\"Most likely bitstring: {most_likely_bitlist}\")"
   ]
  },
  {
   "cell_type": "code",
   "execution_count": null,
   "id": "a7515e83-3229-4ad8-ac86-3f3617e8d5c6",
   "metadata": {},
   "outputs": [],
   "source": [
    "def plot_result(graph, x):\n",
    "    plt.figure()\n",
    "    colors = [\"tab:grey\" if i == 0 else \"tab:purple\" for i in x]\n",
    "    pos, default_axes = rx.spring_layout(graph), plt.axes(frameon=True)\n",
    "    rx.visualization.mpl_draw(graph, node_color=colors, node_size=100, alpha=0.8, pos=pos)\n",
    "\n",
    "\n",
    "plot_result(graph, most_likely_bitlist)"
   ]
  },
  {
   "cell_type": "code",
   "execution_count": null,
   "id": "8508c4b9-81a4-416b-bfb7-fc7600eadd22",
   "metadata": {},
   "outputs": [],
   "source": []
  }
 ],
 "metadata": {
  "kernelspec": {
   "display_name": "qiskit_env",
   "language": "python",
   "name": "qiskit_env"
  },
  "language_info": {
   "codemirror_mode": {
    "name": "ipython",
    "version": 3
   },
   "file_extension": ".py",
   "mimetype": "text/x-python",
   "name": "python",
   "nbconvert_exporter": "python",
   "pygments_lexer": "ipython3",
   "version": "3.12.4"
  }
 },
 "nbformat": 4,
 "nbformat_minor": 5
}
