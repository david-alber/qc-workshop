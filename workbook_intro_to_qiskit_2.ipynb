{
 "cells": [
  {
   "cell_type": "markdown",
   "id": "ebd6dff6-0178-447f-b36f-3306a77f5c30",
   "metadata": {},
   "source": [
    "# Quantum Computing Workshop: Introduction to Qiskit 2"
   ]
  },
  {
   "cell_type": "code",
   "execution_count": null,
   "id": "ed5f95cc-90e3-4b70-9dc2-9fa522b2be0d",
   "metadata": {},
   "outputs": [],
   "source": [
    "# Importing standard Qiskit libraries\n",
    "from qiskit import QuantumCircuit, QuantumRegister, ClassicalRegister, transpile\n",
    "from qiskit.circuit import Parameter\n",
    "from qiskit.result import marginal_counts\n",
    "from qiskit.visualization import *\n",
    "from qiskit_aer import AerSimulator, Aer\n",
    "from qiskit.quantum_info import Operator, Statevector\n",
    "from qiskit.transpiler.preset_passmanagers import generate_preset_pass_manager\n",
    "\n",
    "\n",
    "from qiskit_ibm_runtime import QiskitRuntimeService, Sampler, Estimator, Session, Options\n",
    "\n",
    "# Loading your IBM Quantum account(s)\n",
    "with open('api_key.txt', 'r') as file:\n",
    "    token = file.read()\n",
    "service = QiskitRuntimeService(channel=\"ibm_quantum\",token=token)"
   ]
  },
  {
   "cell_type": "code",
   "execution_count": null,
   "id": "dde1b04c-dd43-4331-954a-803ed9aab493",
   "metadata": {},
   "outputs": [],
   "source": [
    "import numpy as np\n",
    "from IPython.display import Image\n",
    "# Ignore future warnings\n",
    "import warnings\n",
    "warnings.simplefilter(action='ignore', category=FutureWarning)"
   ]
  },
  {
   "cell_type": "code",
   "execution_count": null,
   "id": "da59b613-1a0a-46f3-84cd-f07ea7159ff9",
   "metadata": {},
   "outputs": [],
   "source": [
    "aer_backend = AerSimulator()\n",
    "ibmq_backend = service.get_backend('ibm_brisbane')"
   ]
  },
  {
   "cell_type": "markdown",
   "id": "eba73098-5191-4b5f-9873-a61b4d918f7e",
   "metadata": {},
   "source": [
    "## Qiskit IBM Runtime Primitives and Sessions"
   ]
  },
  {
   "cell_type": "markdown",
   "id": "2546da73-b89d-4187-98c9-516f4fc7bed9",
   "metadata": {},
   "source": [
    "## Parameterized Rotation Gates\n",
    "\n",
    "Rotation gates perform a counter clockwise rotation around the X-, Y-, Z- Axis of the Bloch sphere by a given angle. Let's take the Ry gate as an example:"
   ]
  },
  {
   "cell_type": "code",
   "execution_count": null,
   "id": "5a740f63-c568-4c1b-9a37-ac53bc887fc6",
   "metadata": {},
   "outputs": [],
   "source": [
    "# Create a parameterized (theta) RY circuit (qc)\n",
    "\n",
    "# Your code goes here"
   ]
  },
  {
   "cell_type": "code",
   "execution_count": null,
   "id": "b659d017-64b2-45ba-91c5-e6f756099296",
   "metadata": {},
   "outputs": [],
   "source": [
    "visualize_transition(qc.assign_parameters({theta: 2*np.pi}))"
   ]
  },
  {
   "cell_type": "markdown",
   "id": "5df16181-e9c0-470f-be6b-87fc8e330db0",
   "metadata": {},
   "source": [
    "We evaluate the measurement probability for |0> and |1> for a range of parameters. \n",
    "\n",
    "Let's use the Sampler to sample the quasi distribution for every parameter theta."
   ]
  },
  {
   "cell_type": "code",
   "execution_count": null,
   "id": "0f18528d-3bb6-4aba-9cb6-c37f8c97ce1c",
   "metadata": {},
   "outputs": [],
   "source": [
    "# Define a range of parameters (phases) between 0 and 2 pi\n",
    "\n",
    "# Your code goes here"
   ]
  },
  {
   "cell_type": "code",
   "execution_count": null,
   "id": "9f1f6fe0-9656-4c53-aa3e-0ea82d0dbada",
   "metadata": {},
   "outputs": [],
   "source": [
    "qc.measure_all()\n",
    "qc.draw()"
   ]
  },
  {
   "cell_type": "markdown",
   "id": "f8481120-c363-46f1-af74-abb3cc15092e",
   "metadata": {},
   "source": [
    "**Note:**\n",
    "\n",
    "Using a Runtime Session we can evaluate the circuit for all parameters in one go, i.e. we only need to queue once!"
   ]
  },
  {
   "cell_type": "code",
   "execution_count": null,
   "id": "2a5ae9de-8bbb-474f-affe-9dfa50076879",
   "metadata": {},
   "outputs": [],
   "source": [
    "# Before we run the circuit, we have to transpile it to the instruction set architecture of the backend of choice.\n",
    "pm = generate_preset_pass_manager(backend=ibmq_backend, optimization_level=1)\n",
    "isa_qc = pm.run(qc)\n",
    "isa_qc.draw(idle_wires=False)"
   ]
  },
  {
   "cell_type": "code",
   "execution_count": null,
   "id": "ee1e4ca7-dc5d-4d8b-a359-53b2768e3ff2",
   "metadata": {},
   "outputs": [],
   "source": [
    "# Use the Session context manager to execute the quntum circuit on a real device\n",
    "# via the Sampler runtime primitive. \n",
    "\n",
    "# Your code goes here"
   ]
  },
  {
   "cell_type": "code",
   "execution_count": null,
   "id": "2e55f565-fd4f-4350-9bcf-659f9b03f418",
   "metadata": {},
   "outputs": [],
   "source": [
    "# Retrieve job results\n",
    "result = service.job('cqxdcjtp3cg0008ch7f0').result()"
   ]
  },
  {
   "cell_type": "code",
   "execution_count": null,
   "id": "fbdc3700-6166-47bd-b834-1919ed9c8d0e",
   "metadata": {},
   "outputs": [],
   "source": [
    "import matplotlib.pyplot as plt\n",
    "\n",
    "# The probablity of measuring |0> for each theta\n",
    "prob_values_0 = [dist.get(0, 0) for dist in result.quasi_dists]\n",
    "# The probablity of measuring |1> for each theta\n",
    "prob_values_1 = [dist.get(1, 0) for dist in result.quasi_dists]\n",
    "\n",
    "plt.plot(phases, prob_values_0, 'o', label=r'$P_0 = |<0|\\psi(\\theta)>|^2 = |<0|R_y(\\theta)|0>|^2 = \\cos^2\\frac{\\theta}{2}$')\n",
    "plt.plot(phases, prob_values_1, 'o', label=r'$P_1 = |<1|\\psi(\\theta)>|^2 = |<1|R_y(\\theta)|0>|^2 = \\sin^2\\frac{\\theta}{2}$')\n",
    "plt.xlabel(r'Phase $\\theta$')\n",
    "plt.ylabel(r'Probability')\n",
    "plt.legend()"
   ]
  },
  {
   "cell_type": "markdown",
   "id": "6ce7d786-5463-4c86-86e4-b11ee65d9cfe",
   "metadata": {},
   "source": [
    "## Dynamic Circuits"
   ]
  },
  {
   "cell_type": "markdown",
   "id": "8bbaac21-5cef-4aa1-9d7a-e70325d926c4",
   "metadata": {},
   "source": [
    "**Dynamic circuits** are quantum circuits that contain mid-circuit measurements where the results of those measurements are used to condition quantum gates later in the circuit. The ability to condition future quantum operations on the classical measurement results is known as classical feedforward.\n",
    "\n",
    "Dynamic circuits are quantum circuits that include control flow such as if statements and while loops"
   ]
  },
  {
   "cell_type": "code",
   "execution_count": null,
   "id": "346aa03a-5af7-4ed0-90aa-2f9dd9a85259",
   "metadata": {},
   "outputs": [],
   "source": [
    "qr = QuantumRegister(2)\n",
    "cr = ClassicalRegister(2)\n",
    "qc = QuantumCircuit(qr, cr)\n",
    "\n",
    "q0, q1 = qr\n",
    "b0, b1 = cr\n",
    "\n",
    "qc.h(q0)\n",
    "qc.measure(q0, b0)\n",
    "\n",
    "with qc.if_test((b0, 0)) as else_:\n",
    "    qc.x(q1)\n",
    "with else_:\n",
    "    qc.h(q1)\n",
    "\n",
    "qc.measure(q1, b1)\n",
    "qc.draw(idle_wires=False)"
   ]
  },
  {
   "cell_type": "markdown",
   "id": "ae428f79-6220-41fd-be2a-019d6e159b0a",
   "metadata": {},
   "source": [
    "**Question:**\n",
    "\n",
    "Considering the circuit above:\n",
    "\n",
    "What are (roughly) the expected counts for the $|00\\rangle$, $|01\\rangle$, $|10\\rangle$, $|11\\rangle$ states?"
   ]
  },
  {
   "cell_type": "code",
   "execution_count": null,
   "id": "c8e01a83-56d8-4e23-b20e-77ea8a7bdca9",
   "metadata": {},
   "outputs": [],
   "source": [
    "# Execute the dynamic circuit (qc) on a local backend. Extract the counts.\n",
    "\n",
    "# Your code goes here\n"
   ]
  },
  {
   "cell_type": "markdown",
   "id": "87c053b6-e4d6-4f4d-83e5-776fafde20d3",
   "metadata": {},
   "source": [
    "## Quantum Teleportation"
   ]
  },
  {
   "cell_type": "markdown",
   "id": "1712c574-c097-4310-95c4-cf25706fd8c3",
   "metadata": {},
   "source": [
    "Alice possesses a qubit in an unknown state $\\lvert \\psi \\rangle$ and she wishes to transfer this quantum state to Bob. She can not simply clone or copy the state, but she can transfer the her qubit state to Bob.\n",
    "\n",
    "By sending two bits of classical information Bob will at the end possess $\\lvert \\psi \\rangle$, and Alice will no longer have it. This is known as teleportation.\n",
    "\n",
    "The protocol requires three qubits:\n",
    "\n",
    "1. The qubit to be teleported (Alice's qubit)\n",
    "2. One half of an entangled pair of qubits (Alice's second qubit)\n",
    "3. The other half of the entangled pair (Bob's qubit)\n",
    "\n",
    "The protocol can be summarized in the following steps:\n",
    "\n",
    "1. Create an entangled pair of qubits (Bell pair) shared between Alice and Bob.\n",
    "2. Alice performs a Bell basis measurement on her two qubits.\n",
    "3. Alice sends the classical results of her measurement to Bob.\n",
    "4. Bob applies appropriate quantum gates based on Alice's measurement results to obtain the teleported state."
   ]
  },
  {
   "cell_type": "code",
   "execution_count": null,
   "id": "1085c16d-928b-41d7-b227-44b99a72f4f3",
   "metadata": {},
   "outputs": [],
   "source": [
    "Image(filename='images/quantum_teleportation.jpeg') "
   ]
  },
  {
   "cell_type": "code",
   "execution_count": null,
   "id": "62314684-9c49-455d-8c18-b8f2a7c03ab1",
   "metadata": {},
   "outputs": [],
   "source": [
    "qr = QuantumRegister(3, name=\"q\")\n",
    "cr = ClassicalRegister(3, name=\"c\")\n",
    "s, a, b = qr\n",
    "c0, c1, c2 = cr"
   ]
  },
  {
   "cell_type": "code",
   "execution_count": null,
   "id": "5cbb7401-147d-4810-a486-7d8c8be12c8e",
   "metadata": {},
   "outputs": [],
   "source": [
    "def create_bell_pair(qr: QuantumRegister, cr: ClassicalRegister) -> QuantumCircuit:\n",
    "    \"\"\"Creates a bell pair between qubits a and b.\"\"\"\n",
    "    qc = QuantumCircuit(qr, cr)\n",
    "    # the first qubit is s but we won't be using it in this exercise\n",
    "    s, a, b = qr\n",
    "    # Create a bell pair between alice and bob.\n",
    "\n",
    "    # Your code goes here\n",
    "    \n",
    "    return qc"
   ]
  },
  {
   "cell_type": "code",
   "execution_count": null,
   "id": "ced0b3e9-0f31-4e36-8950-80391e7c2ce6",
   "metadata": {},
   "outputs": [],
   "source": [
    "def alice_gates(qr: QuantumRegister, cr: ClassicalRegister) -> QuantumCircuit:\n",
    "    \"\"\"Creates Alices's gates\"\"\"\n",
    "    qc = QuantumCircuit(qr, cr)\n",
    "    s, a, b = qr\n",
    "    # Perform a bell basis measurement on alices qubits (s,a)\n",
    "\n",
    "    # Your code goes here\n",
    "    \n",
    "    return qc"
   ]
  },
  {
   "cell_type": "code",
   "execution_count": null,
   "id": "3eeb99d2-f4ae-4c28-994c-3b0bf87cad7f",
   "metadata": {},
   "outputs": [],
   "source": [
    "def measure_and_send(qr: QuantumRegister, cr: ClassicalRegister):\n",
    "    \"\"\"Measures qubits a & b and 'sends' the results to Bob\"\"\"\n",
    "    qc = QuantumCircuit(qr, cr)\n",
    "    s, a, b = qr\n",
    "    c0, c1, c2 = cr\n",
    "    qc.measure([a,s],[c0,c1])\n",
    "    return qc"
   ]
  },
  {
   "cell_type": "code",
   "execution_count": null,
   "id": "5620fe1d-fcb4-41cf-b3b1-7f83ee7f8869",
   "metadata": {},
   "outputs": [],
   "source": [
    "def bob_gates(qr: QuantumRegister, cr: ClassicalRegister):\n",
    "    \"\"\"Uses qc.if_test to control which gates are dynamically added\"\"\"\n",
    "    qc = QuantumCircuit(qr, cr)\n",
    "    s, a, b = qr\n",
    "    c0, c1, c2 = cr\n",
    "    # If the bits are `00`, no action is required.\n",
    "    # If they are `01`, an 𝑋 gate (also known as a Pauli-X or a bit-flip gate) should be applied.\n",
    "    # For bits `10`, a 𝑍 gate (also known as a Pauli-Z or a phase-flip gate) should be applied. \n",
    "    # Lastly, if the classical bits are `11`, a combined 𝑍𝑋 sequence should be applied.\n",
    "\n",
    "    # Your code goes here\n",
    "    \n",
    "    return qc"
   ]
  },
  {
   "cell_type": "code",
   "execution_count": null,
   "id": "9a4110a9-2796-4cb8-824c-c22b5f7d333d",
   "metadata": {},
   "outputs": [],
   "source": [
    "teleport = create_bell_pair(qr,cr)\n",
    "teleport.compose(alice_gates(qr,cr),inplace=True)\n",
    "teleport.compose(measure_and_send(qr,cr),inplace=True)\n",
    "teleport.compose(bob_gates(qr,cr),inplace=True)\n",
    "teleport.measure(b,c2)\n",
    "teleport.draw()"
   ]
  },
  {
   "cell_type": "code",
   "execution_count": null,
   "id": "5d0a3453-93e7-46c1-be15-271fc386112a",
   "metadata": {},
   "outputs": [],
   "source": [
    "# define source qubit\n",
    "source = QuantumCircuit(qr,cr)\n",
    "source.ry(np.pi/4,0)\n",
    "source.draw()"
   ]
  },
  {
   "cell_type": "code",
   "execution_count": null,
   "id": "b2d591f5-9ede-497a-8bb8-020af5d391b4",
   "metadata": {},
   "outputs": [],
   "source": [
    "teleport_source = source.compose(teleport)\n",
    "teleport_source.draw()"
   ]
  },
  {
   "cell_type": "code",
   "execution_count": null,
   "id": "8e880e73-862e-412a-860a-7e1bcb3f3853",
   "metadata": {},
   "outputs": [],
   "source": [
    "# run job source \n",
    "source.measure_all()\n",
    "counts_source = aer_backend.run(source, shots=4000).result().get_counts()"
   ]
  },
  {
   "cell_type": "code",
   "execution_count": null,
   "id": "cd4044b6-119f-4fe8-8edd-35f8024a0fac",
   "metadata": {},
   "outputs": [],
   "source": [
    "plot_histogram(counts_source)"
   ]
  },
  {
   "cell_type": "code",
   "execution_count": null,
   "id": "e156a09b-d10c-4b33-9513-37f68d42774c",
   "metadata": {},
   "outputs": [],
   "source": [
    "# Transpile the circuit.\n",
    "isa_teleport_source = pm.run(teleport_source)"
   ]
  },
  {
   "cell_type": "code",
   "execution_count": null,
   "id": "00232cc5-2ebb-499d-870d-e1f9e52f8dc3",
   "metadata": {},
   "outputs": [],
   "source": [
    "# run teleport source\n",
    "job_teleport_source = ibmq_backend.run(isa_teleport_source, dynamic=True)\n",
    "job_teleport_source"
   ]
  },
  {
   "cell_type": "code",
   "execution_count": null,
   "id": "f19c4df9-71be-47c2-a866-3c27f180ca25",
   "metadata": {},
   "outputs": [],
   "source": [
    "counts_teleport_source = service.job('cqxdx34hepxg008182p0').result().get_counts()"
   ]
  },
  {
   "cell_type": "code",
   "execution_count": null,
   "id": "e7472283-3382-4cff-bf60-cad78ac5f16c",
   "metadata": {},
   "outputs": [],
   "source": [
    "# Get the results and display them\n",
    "plot_histogram(counts_teleport_source)"
   ]
  },
  {
   "cell_type": "code",
   "execution_count": null,
   "id": "184d268e-fd61-4c4e-9cd2-25b6698fe1c4",
   "metadata": {},
   "outputs": [],
   "source": [
    "bobs_counts = marginal_counts(counts_teleport_source, [qr.index(b)])\n",
    "plot_histogram(bobs_counts)"
   ]
  },
  {
   "cell_type": "code",
   "execution_count": null,
   "id": "a6c42baf-563a-4a46-998b-f7c53b262241",
   "metadata": {},
   "outputs": [],
   "source": []
  },
  {
   "cell_type": "code",
   "execution_count": null,
   "id": "2c0da006-a30e-46ce-b274-00248a46fd41",
   "metadata": {},
   "outputs": [],
   "source": []
  }
 ],
 "metadata": {
  "kernelspec": {
   "display_name": "testenv",
   "language": "python",
   "name": "testenv"
  },
  "language_info": {
   "codemirror_mode": {
    "name": "ipython",
    "version": 3
   },
   "file_extension": ".py",
   "mimetype": "text/x-python",
   "name": "python",
   "nbconvert_exporter": "python",
   "pygments_lexer": "ipython3",
   "version": "3.12.2"
  }
 },
 "nbformat": 4,
 "nbformat_minor": 5
}
